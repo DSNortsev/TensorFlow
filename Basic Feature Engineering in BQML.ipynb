{
  "nbformat": 4,
  "nbformat_minor": 5,
  "metadata": {
    "kernelspec": {
      "display_name": "Python 3",
      "language": "python",
      "name": "python3"
    },
    "language_info": {
      "codemirror_mode": {
        "name": "ipython",
        "version": 3
      },
      "file_extension": ".py",
      "mimetype": "text/x-python",
      "name": "python",
      "nbconvert_exporter": "python",
      "pygments_lexer": "ipython3",
      "version": "3.9.2"
    },
    "colab": {
      "name": "Basic Feature Engineering in BQML.ipynb",
      "provenance": [],
      "include_colab_link": true
    }
  },
  "cells": [
    {
      "cell_type": "markdown",
      "metadata": {
        "id": "view-in-github",
        "colab_type": "text"
      },
      "source": [
        "<a href=\"https://colab.research.google.com/github/DSNortsev/TensorFlow/blob/master/Basic%20Feature%20Engineering%20in%20BQML.ipynb\" target=\"_parent\"><img src=\"https://colab.research.google.com/assets/colab-badge.svg\" alt=\"Open In Colab\"/></a>"
      ]
    },
    {
      "cell_type": "markdown",
      "metadata": {
        "id": "tYDpzQvbbWnz"
      },
      "source": [
        "# Basic Feature Engineering in BQML \n",
        "\n",
        "1. Create SQL statements to evaluate the model\n",
        "2. Extract temporal features\n",
        "3. Perform a feature cross on temporal features"
      ],
      "id": "tYDpzQvbbWnz"
    },
    {
      "cell_type": "markdown",
      "metadata": {
        "id": "j1-bfFFscaLV"
      },
      "source": [
        "### Useful Links\n",
        "[repeatable sampling](https://www.oreilly.com/learning/repeatable-sampling-of-data-sets-in-bigquery-for-machine-learning)\n"
      ],
      "id": "j1-bfFFscaLV"
    },
    {
      "cell_type": "code",
      "metadata": {
        "id": "civilian-peninsula",
        "outputId": "55746d26-d93c-4d38-8155-1b063d078db8",
        "colab": {
          "base_uri": "https://localhost:8080/"
        }
      },
      "source": [
        "%%bash\n",
        "# Exporting the project\n",
        "\n",
        "export PROJECT=$(gcloud config list project --format \"value(core.project)\")\n",
        "echo \"Your current GCP Project Name is: \"$PROJECT"
      ],
      "id": "civilian-peninsula",
      "execution_count": 2,
      "outputs": [
        {
          "output_type": "stream",
          "text": [
            "Your current GCP Project Name is: \n"
          ],
          "name": "stdout"
        }
      ]
    },
    {
      "cell_type": "markdown",
      "metadata": {
        "id": "e8xxDWUZd6AR"
      },
      "source": [
        "## Create a BigQuery Dataset\n",
        "\n",
        "A BigQuery dataset is a container for tables, views, and models built with BigQuery ML. Let's create one called __feat_eng__ if we have not already done so in an earlier lab. We'll do the same for a GCS bucket for our project too."
      ],
      "id": "e8xxDWUZd6AR"
    },
    {
      "cell_type": "code",
      "metadata": {
        "id": "twR4LUkQd8gO"
      },
      "source": [
        "%%bash\n",
        "\n",
        "# Create a BigQuery dataset for feat_eng if it doesn't exist\n",
        "datasetexists=$(bq ls -d | grep -w feat_eng)\n",
        "\n",
        "if [ -n \"$datasetexists\" ]; then\n",
        "    echo -e \"BigQuery dataset already exists, let's not recreate it.\"\n",
        "\n",
        "else\n",
        "    echo \"Creating BigQuery dataset titled: feat_eng\"\n",
        "    \n",
        "    bq --location=US mk --dataset \\\n",
        "        --description 'Taxi Fare' \\\n",
        "        $PROJECT:feat_eng\n",
        "   echo \"\\nHere are your current datasets:\"\n",
        "   bq ls\n",
        "fi    "
      ],
      "id": "twR4LUkQd8gO",
      "execution_count": null,
      "outputs": []
    },
    {
      "cell_type": "markdown",
      "metadata": {
        "id": "x_ZvBYmkeAk6"
      },
      "source": [
        "## Create the training data table\n",
        "\n",
        "Since there is already a publicly available dataset, we can simply create the training data table using this raw input data.  Note the WHERE clause in the below query:  This clause allows us to TRAIN a portion of the data (e.g. one hundred thousand rows versus one million rows), which keeps your query costs down.  If you need a refresher on using MOD() for repeatable splits see this [post](https://www.oreilly.com/learning/repeatable-sampling-of-data-sets-in-bigquery-for-machine-learning).  \n",
        "\n",
        "**Note:**  The dataset in the create table code below is the one created previously, e.g. \"feat_eng\".  The table name is \"feateng_training_data\".  **Run the query to create the table**."
      ],
      "id": "x_ZvBYmkeAk6"
    },
    {
      "cell_type": "code",
      "metadata": {
        "id": "xJvNFBfadOxp"
      },
      "source": [
        "%%bigquery \n",
        "\n",
        "CREATE OR REPLACE TABLE\n",
        "  feat_eng.feateng_training_data AS\n",
        "SELECT\n",
        "  (tolls_amount + fare_amount) AS fare_amount,\n",
        "  passenger_count*1.0 AS passengers,\n",
        "  pickup_datetime,\n",
        "  pickup_longitude AS pickuplon,\n",
        "  pickup_latitude AS pickuplat,\n",
        "  dropoff_longitude AS dropofflon,\n",
        "  dropoff_latitude AS dropofflat\n",
        "FROM\n",
        "  `nyc-tlc.yellow.trips`\n",
        "WHERE\n",
        "  MOD(ABS(FARM_FINGERPRINT(CAST(pickup_datetime AS STRING))), 10000) = 1\n",
        "  AND fare_amount >= 2.5\n",
        "  AND passenger_count > 0\n",
        "  AND pickup_longitude > -78\n",
        "  AND pickup_longitude < -70\n",
        "  AND dropoff_longitude > -78\n",
        "  AND dropoff_longitude < -70\n",
        "  AND pickup_latitude > 37\n",
        "  AND pickup_latitude < 45\n",
        "  AND dropoff_latitude > 37\n",
        "  AND dropoff_latitude < 45"
      ],
      "id": "xJvNFBfadOxp",
      "execution_count": null,
      "outputs": []
    },
    {
      "cell_type": "code",
      "metadata": {
        "id": "JmLqY3OmdQi6"
      },
      "source": [
        "# Verify that you created the dataset.\n",
        "\n",
        "%%bigquery\n",
        "\n",
        "# LIMIT 0 is a free query; this allows us to check that the table exists.\n",
        "SELECT\n",
        "*\n",
        "FROM\n",
        "  feat_eng.feateng_training_data\n",
        "LIMIT\n",
        "  0"
      ],
      "id": "JmLqY3OmdQi6",
      "execution_count": null,
      "outputs": []
    },
    {
      "cell_type": "markdown",
      "metadata": {
        "id": "Ki03hB1vdoNz"
      },
      "source": [
        "### Baseline Model:  Create the baseline model\n",
        "\n",
        "Next, you create a linear regression baseline model with no feature engineering.  Recall that a model in BigQuery ML represents what an ML system has learned from the training data.  A baseline model is a solution to a problem without applying any machine learning techniques.  \n",
        "\n",
        "When creating a BQML model, you must specify the model type (in our case linear regression) and the input label (fare_amount).  Note also that we are using the training data table as the data source."
      ],
      "id": "Ki03hB1vdoNz"
    },
    {
      "cell_type": "markdown",
      "metadata": {
        "id": "R32FVKt-duT7"
      },
      "source": [
        "Now we create the SQL statement to create the baseline model."
      ],
      "id": "R32FVKt-duT7"
    },
    {
      "cell_type": "code",
      "metadata": {
        "id": "vfv1FTuydWND"
      },
      "source": [
        "%%bigquery\n",
        "\n",
        "CREATE OR REPLACE MODEL\n",
        "  feat_eng.baseline_model OPTIONS (model_type='linear_reg',\n",
        "    input_label_cols=['fare_amount']) AS\n",
        "SELECT\n",
        "  fare_amount,\n",
        "  passengers,\n",
        "  pickup_datetime,\n",
        "  pickuplon,\n",
        "  pickuplat,\n",
        "  dropofflon,\n",
        "  dropofflat\n",
        "FROM\n",
        "  feat_eng.feateng_training_data"
      ],
      "id": "vfv1FTuydWND",
      "execution_count": null,
      "outputs": []
    },
    {
      "cell_type": "markdown",
      "metadata": {
        "id": "EItnav9jfnBe"
      },
      "source": [
        "### Evaluate the baseline model\n",
        "Note that BigQuery automatically split the data we gave it, and trained on only a part of the data and used the rest for evaluation.  After creating your model, you evaluate the performance of the regressor using the ML.EVALUATE function. The ML.EVALUATE function evaluates the predicted values against the actual data.\n",
        "\n",
        "NOTE: The results are also displayed in the [BigQuery Cloud Console](https://console.cloud.google.com/bigquery) under the **Evaluation** tab."
      ],
      "id": "EItnav9jfnBe"
    },
    {
      "cell_type": "code",
      "metadata": {
        "id": "1OyBUwqHfomt"
      },
      "source": [
        "%%bigquery\n",
        "\n",
        "# Eval statistics on the held out data.\n",
        "# Here, ML.EVALUATE function is used to evaluate model metrics\n",
        "SELECT\n",
        "  *,\n",
        "  SQRT(loss) AS rmse\n",
        "FROM\n",
        "  ML.TRAINING_INFO(MODEL feat_eng.baseline_model)"
      ],
      "id": "1OyBUwqHfomt",
      "execution_count": null,
      "outputs": []
    },
    {
      "cell_type": "code",
      "metadata": {
        "id": "4M8OEn_2gE6V"
      },
      "source": [
        "%%bigquery\n",
        "\n",
        "# Here, ML.EVALUATE function is used to evaluate model metrics\n",
        "SELECT\n",
        "  *\n",
        "FROM\n",
        "  ML.EVALUATE(MODEL feat_eng.baseline_model)"
      ],
      "id": "4M8OEn_2gE6V",
      "execution_count": null,
      "outputs": []
    },
    {
      "cell_type": "markdown",
      "metadata": {
        "id": "9tvw3tTdgN6K"
      },
      "source": [
        "**NOTE:** Because you performed a linear regression, the results include the following columns:\n",
        "\n",
        "*   mean_absolute_error\n",
        "*   mean_squared_error\n",
        "*   mean_squared_log_error\n",
        "*   median_absolute_error\n",
        "*   r2_score\n",
        "*   explained_variance\n",
        "\n",
        "**Resource** for an explanation of the [Regression Metrics](https://towardsdatascience.com/metrics-to-evaluate-your-machine-learning-algorithm-f10ba6e38234).\n",
        "\n",
        "**Mean squared error** (MSE) - Measures the difference between the values our model predicted using the test set and the actual values. You can also think of it as the distance between your regression (best fit) line and the predicted values. \n",
        "\n",
        "**Root mean squared error** (RMSE) - The primary evaluation metric for this ML problem is the root mean-squared error. RMSE measures the difference between the predictions of a model, and the observed values. A large RMSE is equivalent to a large average error, so smaller values of RMSE are better. One nice property of RMSE is that the error is given in the units being measured, so you can tell very directly how incorrect the model might be on unseen data.\n",
        "\n",
        "**R2**:  An important metric in the evaluation results is the R2 score. The R2 score is a statistical measure that determines if the linear regression predictions approximate the actual data. Zero (0) indicates that the model explains none of the variability of the response data around the mean.  One (1) indicates that the model explains all the variability of the response data around the mean."
      ],
      "id": "9tvw3tTdgN6K"
    },
    {
      "cell_type": "markdown",
      "metadata": {
        "id": "QPJVoy81g9pk"
      },
      "source": [
        "Next, we write a SQL query to take the SQRT() of the mean squared error as your loss metric for evaluation for the benchmark_model."
      ],
      "id": "QPJVoy81g9pk"
    },
    {
      "cell_type": "code",
      "metadata": {
        "id": "fndkvWo4gQee"
      },
      "source": [
        "%%bigquery\n",
        "#TODO 1\n",
        "\n",
        "# Here, ML.EVALUATE function is used to evaluate model metrics\n",
        "SELECT\n",
        "  SQRT(mean_squared_error) AS rmse\n",
        "FROM\n",
        "  ML.EVALUATE(MODEL feat_eng.baseline_model)"
      ],
      "id": "fndkvWo4gQee",
      "execution_count": null,
      "outputs": []
    },
    {
      "cell_type": "markdown",
      "metadata": {
        "id": "ygyq1qB_hWhc"
      },
      "source": [
        "#### Model 1:  EXTRACT dayofweek from the pickup_datetime feature.\n",
        "\n",
        "* As you recall, dayofweek is an enum representing the 7 days of the week. This factory allows the enum to be obtained from the int value. The int value follows the ISO-8601 standard, from 1 (Monday) to 7 (Sunday).\n",
        "\n",
        "* If you were to extract the dayofweek from pickup_datetime using BigQuery SQL, the datatype returned would be integer."
      ],
      "id": "ygyq1qB_hWhc"
    },
    {
      "cell_type": "code",
      "metadata": {
        "id": "7TweQpZthBJZ"
      },
      "source": [
        "%%bigquery\n",
        "#TODO 2\n",
        "\n",
        "CREATE OR REPLACE MODEL\n",
        "  feat_eng.model_1 OPTIONS (model_type='linear_reg',\n",
        "    input_label_cols=['fare_amount']) AS\n",
        "SELECT\n",
        "  fare_amount,\n",
        "  passengers,\n",
        "  pickup_datetime,\n",
        "  EXTRACT(DAYOFWEEK\n",
        "  FROM\n",
        "    pickup_datetime) AS dayofweek,\n",
        "  pickuplon,\n",
        "  pickuplat,\n",
        "  dropofflon,\n",
        "  dropofflat\n",
        "FROM\n",
        "  feat_eng.feateng_training_data"
      ],
      "id": "7TweQpZthBJZ",
      "execution_count": null,
      "outputs": []
    },
    {
      "cell_type": "markdown",
      "metadata": {
        "id": "VBFQbbTPknGD"
      },
      "source": [
        "### Model 2:  EXTRACT hourofday from the pickup_datetime feature\n",
        "\n",
        "As you recall, **pickup_datetime** is stored as a TIMESTAMP, where the Timestamp format is retrieved in the standard output format – year-month-day hour:minute:second (e.g. 2016-01-01 23:59:59).  Hourofday returns the integer number representing the hour number of the given date.\n",
        "\n",
        "Hourofday is best thought of as a discrete ordinal variable (and not a categorical feature), as the hours can be ranked (e.g. there is a natural ordering of the values).  Hourofday has an added characteristic of being cyclic, since 12am follows 11pm and precedes 1am."
      ],
      "id": "VBFQbbTPknGD"
    },
    {
      "cell_type": "markdown",
      "metadata": {
        "id": "qGM9F1mFifzH"
      },
      "source": [
        "## Model 3:  Feature cross dayofweek and hourofday using CONCAT\n",
        "\n",
        "First, let’s allow the model to learn traffic patterns by creating a new feature that combines the time of day and day of week (this is called a [feature cross](https://developers.google.com/machine-learning/crash-course/feature-crosses/video-lecture). \n",
        "\n",
        "Note:  BQML by default assumes that numbers are numeric features, and strings are categorical features.  We need to convert both the dayofweek and hourofday features to strings because the model (Neural Network) will automatically treat any integer as a numerical value rather than a categorical value.  Thus, if not cast as a string, the dayofweek feature will be interpreted as numeric values (e.g. 1,2,3,4,5,6,7) and hourofday will also be interpreted as numeric values (e.g. the day begins at midnight, 00:00, and the last minute of the day begins at 23:59 and ends at 24:00).  As such, there is no way to distinguish the \"feature cross\" of hourofday and dayofweek \"numerically\".  Casting the dayofweek and hourofday as strings ensures that each element will be treated like a label and will get its own coefficient associated with it."
      ],
      "id": "qGM9F1mFifzH"
    },
    {
      "cell_type": "code",
      "metadata": {
        "id": "iq8TWU7Cih4o"
      },
      "source": [
        "%%bigquery\n",
        "#TODO 3b\n",
        "\n",
        "CREATE OR REPLACE MODEL\n",
        "  feat_eng.model_3 OPTIONS (model_type='linear_reg',\n",
        "    input_label_cols=['fare_amount']) AS\n",
        "SELECT\n",
        "  fare_amount,\n",
        "  passengers,\n",
        "  #pickup_datetime,\n",
        "  #EXTRACT(DAYOFWEEK FROM pickup_datetime) AS dayofweek,\n",
        "  #EXTRACT(HOUR FROM pickup_datetime) AS hourofday,\n",
        "  CONCAT(CAST(EXTRACT(DAYOFWEEK\n",
        "      FROM\n",
        "        pickup_datetime) AS STRING), CAST(EXTRACT(HOUR\n",
        "      FROM\n",
        "        pickup_datetime) AS STRING)) AS hourofday,\n",
        "  pickuplon,\n",
        "  pickuplat,\n",
        "  dropofflon,\n",
        "  dropofflat\n",
        "FROM\n",
        "  `feat_eng.feateng_training_data`"
      ],
      "id": "iq8TWU7Cih4o",
      "execution_count": null,
      "outputs": []
    },
    {
      "cell_type": "markdown",
      "metadata": {
        "id": "GDps4l09kINl"
      },
      "source": [
        "| Model          | Taxi Fare | Description                                  |\n",
        "|----------------|-----------|----------------------------------------------|\n",
        "| baseline_model | 8.62      | Baseline model - no feature engineering    |\n",
        "| model_1        | 9.43      | EXTRACT dayofweek from the pickup_datetime |\n",
        "| model_2        | 8.40      | EXTRACT hourofday from the pickup_datetime |\n",
        "| model_3        | 8.32      | FEATURE CROSS hourofday and dayofweek      |"
      ],
      "id": "GDps4l09kINl"
    }
  ]
}