{
  "nbformat": 4,
  "nbformat_minor": 5,
  "metadata": {
    "kernelspec": {
      "display_name": "Python 3",
      "language": "python",
      "name": "python3"
    },
    "language_info": {
      "codemirror_mode": {
        "name": "ipython",
        "version": 3
      },
      "file_extension": ".py",
      "mimetype": "text/x-python",
      "name": "python",
      "nbconvert_exporter": "python",
      "pygments_lexer": "ipython3",
      "version": "3.9.2"
    },
    "colab": {
      "name": "TaxiFare.ipynb",
      "provenance": [],
      "include_colab_link": true
    }
  },
  "cells": [
    {
      "cell_type": "markdown",
      "metadata": {
        "id": "view-in-github",
        "colab_type": "text"
      },
      "source": [
        "<a href=\"https://colab.research.google.com/github/DSNortsev/TensorFlow/blob/master/TaxiFare.ipynb\" target=\"_parent\"><img src=\"https://colab.research.google.com/assets/colab-badge.svg\" alt=\"Open In Colab\"/></a>"
      ]
    },
    {
      "cell_type": "code",
      "metadata": {
        "id": "oriented-slope",
        "outputId": "b59b67be-0782-4772-876b-b3c0a0ff28e2",
        "colab": {
          "base_uri": "https://localhost:8080/"
        }
      },
      "source": [
        "# The datetime module used to work with dates as date objects.\n",
        "import datetime\n",
        "# The OS module in python provides functions for interacting with the operating system.\n",
        "import os\n",
        "# The shutil module in Python provides many functions of high-level operations on files and collections of files.\n",
        "# This module helps in automating process of copying and removal of files and directories.\n",
        "import shutil\n",
        "\n",
        "# Here we'll import data processing libraries like Numpy, Pandas and Tensorflow\n",
        "import numpy as np\n",
        "import pandas as pd\n",
        "import tensorflow as tf\n",
        "\n",
        "# Import pyplot package from matplotlib library\n",
        "from matplotlib import pyplot as plt\n",
        "# Import keras package from tensorflow library\n",
        "from tensorflow import keras\n",
        "\n",
        "# Import Sequential function from tensorflow.keras.models\n",
        "from tensorflow.keras.models import Sequential\n",
        "# Import Dense, DenseFeatures function from tensorflow.keras.layers\n",
        "from tensorflow.keras.layers import Dense, DenseFeatures\n",
        "# Import TensorBoard function from tensorflow.keras.callbacks\n",
        "from tensorflow.keras.callbacks import TensorBoard\n",
        "\n",
        "# Here we'll show the currently installed version of TensorFlow\n",
        "print(tf.__version__)\n",
        "%matplotlib inline"
      ],
      "id": "oriented-slope",
      "execution_count": 2,
      "outputs": [
        {
          "output_type": "stream",
          "text": [
            "2.4.1\n"
          ],
          "name": "stdout"
        }
      ]
    },
    {
      "cell_type": "code",
      "metadata": {
        "id": "HouWnanwLSDs",
        "outputId": "00315b37-3241-475a-ebe8-9e1ace683b3d",
        "colab": {
          "base_uri": "https://localhost:8080/"
        }
      },
      "source": [
        "!ls -l taxi*.csv"
      ],
      "id": "HouWnanwLSDs",
      "execution_count": 4,
      "outputs": [
        {
          "output_type": "stream",
          "text": [
            "-rw-r--r-- 1 root root 123590 Apr 18 04:11 taxi-test.csv\n",
            "-rw-r--r-- 1 root root 579055 Apr 18 04:11 taxi-train.csv\n",
            "-rw-r--r-- 1 root root 123114 Apr 18 04:11 taxi-valid.csv\n"
          ],
          "name": "stdout"
        }
      ]
    },
    {
      "cell_type": "code",
      "metadata": {
        "id": "g3PVcgASLWpt",
        "outputId": "6d042c91-b84e-4f81-ad59-81b8eb71c5c6",
        "colab": {
          "base_uri": "https://localhost:8080/"
        }
      },
      "source": [
        "!head taxi*.csv"
      ],
      "id": "g3PVcgASLWpt",
      "execution_count": 6,
      "outputs": [
        {
          "output_type": "stream",
          "text": [
            "==> taxi-test.csv <==\n",
            "6.0,2013-03-27 03:35:00 UTC,-73.977672,40.784052,-73.965332,40.801025,2,0\n",
            "19.3,2012-05-10 18:43:16 UTC,-73.954366,40.778924,-74.004094,40.723104,1,1\n",
            "7.5,2014-05-20 23:09:00 UTC,-73.999165,40.738377,-74.003473,40.723862,2,2\n",
            "12.5,2015-02-23 19:51:31 UTC,-73.9652099609375,40.76948165893555,-73.98949432373047,40.739742279052734,1,3\n",
            "10.9,2011-03-19 03:32:00 UTC,-73.99259,40.742957,-73.989908,40.711053,1,4\n",
            "7.0,2012-09-18 12:51:11 UTC,-73.971195,40.751566,-73.975922,40.756361,1,5\n",
            "19.0,2014-05-20 23:09:00 UTC,-73.998392,40.74517,-73.939845,40.74908,1,6\n",
            "8.9,2012-07-18 08:46:08 UTC,-73.997638,40.756541,-73.973303,40.762019,1,7\n",
            "4.5,2010-07-11 20:39:08 UTC,-73.976738,40.751321,-73.986671,40.74883,1,8\n",
            "7.0,2013-12-12 02:16:40 UTC,-73.985024,40.767537,-73.981273,40.779302,1,9\n",
            "\n",
            "==> taxi-train.csv <==\n",
            "11.3,2011-01-28 20:42:59 UTC,-73.999022,40.739146,-73.990369,40.717866,1,0\n",
            "7.7,2011-06-27 04:28:06 UTC,-73.987443,40.729221,-73.979013,40.758641,1,1\n",
            "10.5,2011-04-03 00:54:53 UTC,-73.982539,40.735725,-73.954797,40.778388,1,2\n",
            "16.2,2009-04-10 04:11:56 UTC,-74.001945,40.740505,-73.91385,40.758559,1,3\n",
            "33.5,2014-02-24 18:22:00 UTC,-73.993372,40.753382,-73.8609,40.732897,2,4\n",
            "6.9,2011-12-10 00:25:23 UTC,-73.996237,40.721848,-73.989416,40.718052,1,5\n",
            "6.1,2012-09-01 14:30:19 UTC,-73.977048,40.758461,-73.984899,40.744693,2,6\n",
            "9.5,2012-11-08 13:28:07 UTC,-73.969402,40.757545,-73.950049,40.776079,1,7\n",
            "9.0,2014-07-15 11:37:25 UTC,-73.979318,40.760949,-73.95767,40.773724,1,8\n",
            "3.3,2009-11-09 18:06:58 UTC,-73.955675,40.779154,-73.961172,40.772368,1,9\n",
            "\n",
            "==> taxi-valid.csv <==\n",
            "5.3,2012-01-03 19:21:35 UTC,-73.962627,40.763214,-73.973485,40.753353,1,0\n",
            "25.3,2010-09-27 07:30:15 UTC,-73.965799,40.794243,-73.927134,40.852261,3,1\n",
            "27.5,2015-05-19 00:40:02 UTC,-73.86344146728516,40.76899719238281,-73.96058654785156,40.76129913330078,1,2\n",
            "5.7,2010-04-29 12:28:00 UTC,-73.989255,40.738912,-73.97558,40.749172,1,3\n",
            "11.5,2013-06-23 06:08:09 UTC,-73.99731,40.763735,-73.955657,40.768141,1,4\n",
            "18.0,2014-10-14 18:52:03 UTC,-73.997995,40.761638,-74.008985,40.712442,1,5\n",
            "4.9,2010-04-29 12:28:00 UTC,-73.977315,40.766182,-73.970845,40.761462,5,6\n",
            "32.33,2014-02-24 18:22:00 UTC,-73.985358,40.761352,-73.92427,40.699145,1,7\n",
            "17.0,2015-03-26 02:48:58 UTC,-73.93981170654297,40.846473693847656,-73.97361755371094,40.786983489990234,1,8\n",
            "12.5,2013-04-09 09:39:13 UTC,-73.977323,40.753934,-74.00719,40.741472,1,9\n"
          ],
          "name": "stdout"
        }
      ]
    },
    {
      "cell_type": "code",
      "metadata": {
        "id": "I5wQO9FELc6L"
      },
      "source": [
        "# Defining the feature names into a list `CSV_COLUMNS`\n",
        "CSV_COLUMNS = [\n",
        "    'fare_amount',\n",
        "    'pickup_datetime',\n",
        "    'pickup_longitude',\n",
        "    'pickup_latitude',\n",
        "    'dropoff_longitude',\n",
        "    'dropoff_latitude',\n",
        "    'passenger_count',\n",
        "    'key'\n",
        "]\n",
        "LABEL_COLUMN = 'fare_amount'\n",
        "# Defining the default values into a list `DEFAULTS`\n",
        "DEFAULTS = [[0.0], ['na'], [0.0], [0.0], [0.0], [0.0], [0.0], ['na']]\n",
        "UNWANTED_COLS = ['pickup_datetime', 'key']\n",
        "\n",
        "\n",
        "def features_and_labels(row_data):\n",
        "# The .pop() method will return item and drop from frame. \n",
        "    label = row_data.pop(LABEL_COLUMN)\n",
        "    features = row_data\n",
        "    \n",
        "    for unwanted_col in UNWANTED_COLS:\n",
        "        features.pop(unwanted_col)\n",
        "\n",
        "    return features, label\n",
        "\n",
        "\n",
        "def create_dataset(pattern, batch_size=1, mode='eval'):\n",
        "# The tf.data.experimental.make_csv_dataset() method reads CSV files into a dataset\n",
        "    dataset = tf.data.experimental.make_csv_dataset(\n",
        "        pattern, batch_size, CSV_COLUMNS, DEFAULTS)\n",
        "\n",
        "# The map() function executes a specified function for each item in an iterable.\n",
        "# The item is sent to the function as a parameter.\n",
        "    dataset = dataset.map(features_and_labels)\n",
        "\n",
        "    if mode == 'train':\n",
        "# The shuffle() method takes a sequence (list, string, or tuple) and reorganize the order of the items.\n",
        "        dataset = dataset.shuffle(buffer_size=1000).repeat()\n",
        "\n",
        "    # take advantage of multi-threading; 1=AUTOTUNE\n",
        "    dataset = dataset.prefetch(1)\n",
        "    return dataset"
      ],
      "id": "I5wQO9FELc6L",
      "execution_count": 8,
      "outputs": []
    },
    {
      "cell_type": "code",
      "metadata": {
        "id": "X2dcGUQWLwvb"
      },
      "source": [
        "# Defining the feature names into a list `INPUT_COLS`\n",
        "INPUT_COLS = [\n",
        "    'pickup_longitude',\n",
        "    'pickup_latitude',\n",
        "    'dropoff_longitude',\n",
        "    'dropoff_latitude',\n",
        "    'passenger_count',\n",
        "]\n",
        "\n",
        "# Create input layer of feature columns\n",
        "# TODO 1\n",
        "feature_columns = {\n",
        "    colname: tf.feature_column.numeric_column(colname)\n",
        "    for colname in INPUT_COLS\n",
        "    }"
      ],
      "id": "X2dcGUQWLwvb",
      "execution_count": 10,
      "outputs": []
    },
    {
      "cell_type": "code",
      "metadata": {
        "id": "MhTxsCzrL6G-"
      },
      "source": [
        "# Build a keras DNN model using Sequential API\n",
        "# TODO 2a\n",
        "model = Sequential([\n",
        "    DenseFeatures(feature_columns=feature_columns.values()),\n",
        "    Dense(units=32, activation=\"relu\", name=\"h1\"),\n",
        "    Dense(units=8, activation=\"relu\", name=\"h2\"),\n",
        "    Dense(units=1, activation=\"linear\", name=\"output\")\n",
        "    ])"
      ],
      "id": "MhTxsCzrL6G-",
      "execution_count": 11,
      "outputs": []
    },
    {
      "cell_type": "code",
      "metadata": {
        "id": "7A64T1yVL8qO"
      },
      "source": [
        "def rmse(y_true, y_pred):\n",
        "    return tf.sqrt(tf.reduce_mean(tf.square(y_pred - y_true)))\n",
        "\n",
        "\n",
        "# Compile the keras model\n",
        "model.compile(optimizer=\"adam\", loss=\"mse\", metrics=[rmse, \"mse\"])"
      ],
      "id": "7A64T1yVL8qO",
      "execution_count": 12,
      "outputs": []
    },
    {
      "cell_type": "code",
      "metadata": {
        "id": "GwTOnAbYL_Or"
      },
      "source": [
        "TRAIN_BATCH_SIZE = 1000\n",
        "NUM_TRAIN_EXAMPLES = 10000 * 5  # training dataset will repeat, wrap around\n",
        "NUM_EVALS = 50  # how many times to evaluate\n",
        "NUM_EVAL_EXAMPLES = 10000  # enough to get a reasonable sample\n",
        "\n",
        "trainds = create_dataset(\n",
        "    pattern='taxi-train*',\n",
        "    batch_size=TRAIN_BATCH_SIZE,\n",
        "    mode='train')\n",
        "\n",
        "evalds = create_dataset(\n",
        "    pattern='taxi-valid*',\n",
        "    batch_size=1000,\n",
        "    mode='eval').take(NUM_EVAL_EXAMPLES//1000)"
      ],
      "id": "GwTOnAbYL_Or",
      "execution_count": 14,
      "outputs": []
    },
    {
      "cell_type": "code",
      "metadata": {
        "id": "oAFaZ8g7NZhH",
        "outputId": "2a49f073-114a-45b4-8502-a49d687546b4",
        "colab": {
          "base_uri": "https://localhost:8080/"
        }
      },
      "source": [
        "trainds"
      ],
      "id": "oAFaZ8g7NZhH",
      "execution_count": 23,
      "outputs": [
        {
          "output_type": "execute_result",
          "data": {
            "text/plain": [
              "<PrefetchDataset shapes: (OrderedDict([(pickup_longitude, (1000,)), (pickup_latitude, (1000,)), (dropoff_longitude, (1000,)), (dropoff_latitude, (1000,)), (passenger_count, (1000,))]), (1000,)), types: (OrderedDict([(pickup_longitude, tf.float32), (pickup_latitude, tf.float32), (dropoff_longitude, tf.float32), (dropoff_latitude, tf.float32), (passenger_count, tf.float32)]), tf.float32)>"
            ]
          },
          "metadata": {
            "tags": []
          },
          "execution_count": 23
        }
      ]
    },
    {
      "cell_type": "code",
      "metadata": {
        "id": "oBQ0I8GEMVpV",
        "outputId": "0fb19dc3-c7fe-4bcd-b3a7-95c0f1a16d06",
        "colab": {
          "base_uri": "https://localhost:8080/"
        }
      },
      "source": [
        "%time \n",
        "steps_per_epoch = NUM_TRAIN_EXAMPLES // (TRAIN_BATCH_SIZE * NUM_EVALS)\n",
        "\n",
        "LOGDIR = \"taxi_trained\"\n",
        "# Train the sequential model\n",
        "history = model.fit(x=trainds,\n",
        "                    steps_per_epoch=steps_per_epoch,\n",
        "                    epochs=NUM_EVALS,\n",
        "                    validation_data=evalds,\n",
        "                    callbacks=[TensorBoard(LOGDIR)])"
      ],
      "id": "oBQ0I8GEMVpV",
      "execution_count": 18,
      "outputs": [
        {
          "output_type": "stream",
          "text": [
            "CPU times: user 3 µs, sys: 0 ns, total: 3 µs\n",
            "Wall time: 7.63 µs\n",
            "Epoch 1/50\n",
            "WARNING:tensorflow:Layers in a Sequential model should only have a single input tensor, but we receive a <class 'collections.OrderedDict'> input: OrderedDict([('pickup_longitude', <tf.Tensor 'ExpandDims_4:0' shape=(1000, 1) dtype=float32>), ('pickup_latitude', <tf.Tensor 'ExpandDims_3:0' shape=(1000, 1) dtype=float32>), ('dropoff_longitude', <tf.Tensor 'ExpandDims_1:0' shape=(1000, 1) dtype=float32>), ('dropoff_latitude', <tf.Tensor 'ExpandDims:0' shape=(1000, 1) dtype=float32>), ('passenger_count', <tf.Tensor 'ExpandDims_2:0' shape=(1000, 1) dtype=float32>)])\n",
            "Consider rewriting this model with the Functional API.\n",
            "WARNING:tensorflow:Layers in a Sequential model should only have a single input tensor, but we receive a <class 'collections.OrderedDict'> input: OrderedDict([('pickup_longitude', <tf.Tensor 'ExpandDims_4:0' shape=(1000, 1) dtype=float32>), ('pickup_latitude', <tf.Tensor 'ExpandDims_3:0' shape=(1000, 1) dtype=float32>), ('dropoff_longitude', <tf.Tensor 'ExpandDims_1:0' shape=(1000, 1) dtype=float32>), ('dropoff_latitude', <tf.Tensor 'ExpandDims:0' shape=(1000, 1) dtype=float32>), ('passenger_count', <tf.Tensor 'ExpandDims_2:0' shape=(1000, 1) dtype=float32>)])\n",
            "Consider rewriting this model with the Functional API.\n",
            "1/1 [==============================] - ETA: 0s - loss: 1169.8442 - rmse: 34.2030 - mse: 1169.8442WARNING:tensorflow:Layers in a Sequential model should only have a single input tensor, but we receive a <class 'collections.OrderedDict'> input: OrderedDict([('pickup_longitude', <tf.Tensor 'ExpandDims_4:0' shape=(1000, 1) dtype=float32>), ('pickup_latitude', <tf.Tensor 'ExpandDims_3:0' shape=(1000, 1) dtype=float32>), ('dropoff_longitude', <tf.Tensor 'ExpandDims_1:0' shape=(1000, 1) dtype=float32>), ('dropoff_latitude', <tf.Tensor 'ExpandDims:0' shape=(1000, 1) dtype=float32>), ('passenger_count', <tf.Tensor 'ExpandDims_2:0' shape=(1000, 1) dtype=float32>)])\n",
            "Consider rewriting this model with the Functional API.\n",
            "1/1 [==============================] - 13s 13s/step - loss: 1169.8442 - rmse: 34.2030 - mse: 1169.8442 - val_loss: 1185.1733 - val_rmse: 34.4234 - val_mse: 1185.1733\n",
            "Epoch 2/50\n",
            "1/1 [==============================] - 0s 334ms/step - loss: 1118.1191 - rmse: 33.4383 - mse: 1118.1191 - val_loss: 1116.6305 - val_rmse: 33.4151 - val_mse: 1116.6305\n",
            "Epoch 3/50\n",
            "1/1 [==============================] - 0s 280ms/step - loss: 1096.9513 - rmse: 33.1203 - mse: 1096.9513 - val_loss: 1043.1794 - val_rmse: 32.2960 - val_mse: 1043.1794\n",
            "Epoch 4/50\n",
            "1/1 [==============================] - 0s 287ms/step - loss: 1011.7672 - rmse: 31.8083 - mse: 1011.7672 - val_loss: 980.4280 - val_rmse: 31.3106 - val_mse: 980.4280\n",
            "Epoch 5/50\n",
            "1/1 [==============================] - 0s 307ms/step - loss: 969.7536 - rmse: 31.1409 - mse: 969.7536 - val_loss: 920.3243 - val_rmse: 30.3344 - val_mse: 920.3243\n",
            "Epoch 6/50\n",
            "1/1 [==============================] - 0s 286ms/step - loss: 849.5468 - rmse: 29.1470 - mse: 849.5468 - val_loss: 860.0394 - val_rmse: 29.3221 - val_mse: 860.0394\n",
            "Epoch 7/50\n",
            "1/1 [==============================] - 0s 294ms/step - loss: 826.9891 - rmse: 28.7574 - mse: 826.9891 - val_loss: 807.5781 - val_rmse: 28.4147 - val_mse: 807.5781\n",
            "Epoch 8/50\n",
            "1/1 [==============================] - 0s 288ms/step - loss: 776.6214 - rmse: 27.8679 - mse: 776.6214 - val_loss: 757.2798 - val_rmse: 27.5119 - val_mse: 757.2798\n",
            "Epoch 9/50\n",
            "1/1 [==============================] - 0s 294ms/step - loss: 712.7352 - rmse: 26.6971 - mse: 712.7352 - val_loss: 704.6663 - val_rmse: 26.5411 - val_mse: 704.6663\n",
            "Epoch 10/50\n",
            "1/1 [==============================] - 0s 323ms/step - loss: 644.2516 - rmse: 25.3821 - mse: 644.2516 - val_loss: 659.4492 - val_rmse: 25.6727 - val_mse: 659.4492\n",
            "Epoch 11/50\n",
            "1/1 [==============================] - 0s 298ms/step - loss: 608.8419 - rmse: 24.6747 - mse: 608.8419 - val_loss: 616.1457 - val_rmse: 24.8197 - val_mse: 616.1457\n",
            "Epoch 12/50\n",
            "1/1 [==============================] - 0s 300ms/step - loss: 572.2626 - rmse: 23.9220 - mse: 572.2626 - val_loss: 574.1049 - val_rmse: 23.9565 - val_mse: 574.1049\n",
            "Epoch 13/50\n",
            "1/1 [==============================] - 0s 318ms/step - loss: 553.2958 - rmse: 23.5222 - mse: 553.2958 - val_loss: 532.3806 - val_rmse: 23.0652 - val_mse: 532.3806\n",
            "Epoch 14/50\n",
            "1/1 [==============================] - 0s 294ms/step - loss: 479.0597 - rmse: 21.8874 - mse: 479.0597 - val_loss: 493.6445 - val_rmse: 22.2158 - val_mse: 493.6445\n",
            "Epoch 15/50\n",
            "1/1 [==============================] - 0s 298ms/step - loss: 472.3897 - rmse: 21.7345 - mse: 472.3897 - val_loss: 457.6873 - val_rmse: 21.3854 - val_mse: 457.6873\n",
            "Epoch 16/50\n",
            "1/1 [==============================] - 0s 304ms/step - loss: 395.5224 - rmse: 19.8877 - mse: 395.5224 - val_loss: 424.5820 - val_rmse: 20.6017 - val_mse: 424.5820\n",
            "Epoch 17/50\n",
            "1/1 [==============================] - 0s 290ms/step - loss: 395.8266 - rmse: 19.8954 - mse: 395.8266 - val_loss: 395.0885 - val_rmse: 19.8746 - val_mse: 395.0885\n",
            "Epoch 18/50\n",
            "1/1 [==============================] - 0s 290ms/step - loss: 352.2892 - rmse: 18.7694 - mse: 352.2892 - val_loss: 363.5205 - val_rmse: 19.0579 - val_mse: 363.5205\n",
            "Epoch 19/50\n",
            "1/1 [==============================] - 0s 308ms/step - loss: 304.8979 - rmse: 17.4613 - mse: 304.8979 - val_loss: 336.8361 - val_rmse: 18.3480 - val_mse: 336.8361\n",
            "Epoch 20/50\n",
            "1/1 [==============================] - 0s 314ms/step - loss: 318.0145 - rmse: 17.8330 - mse: 318.0145 - val_loss: 312.9731 - val_rmse: 17.6782 - val_mse: 312.9731\n",
            "Epoch 21/50\n",
            "1/1 [==============================] - 0s 304ms/step - loss: 284.5440 - rmse: 16.8684 - mse: 284.5440 - val_loss: 292.6973 - val_rmse: 17.1011 - val_mse: 292.6973\n",
            "Epoch 22/50\n",
            "1/1 [==============================] - 0s 306ms/step - loss: 263.4591 - rmse: 16.2314 - mse: 263.4591 - val_loss: 270.2101 - val_rmse: 16.4264 - val_mse: 270.2101\n",
            "Epoch 23/50\n",
            "1/1 [==============================] - 0s 305ms/step - loss: 272.9766 - rmse: 16.5220 - mse: 272.9766 - val_loss: 249.1737 - val_rmse: 15.7757 - val_mse: 249.1737\n",
            "Epoch 24/50\n",
            "1/1 [==============================] - 0s 314ms/step - loss: 215.9785 - rmse: 14.6962 - mse: 215.9785 - val_loss: 233.5433 - val_rmse: 15.2671 - val_mse: 233.5433\n",
            "Epoch 25/50\n",
            "1/1 [==============================] - 0s 316ms/step - loss: 187.8101 - rmse: 13.7044 - mse: 187.8101 - val_loss: 219.2148 - val_rmse: 14.7944 - val_mse: 219.2148\n",
            "Epoch 26/50\n",
            "1/1 [==============================] - 0s 299ms/step - loss: 228.4286 - rmse: 15.1139 - mse: 228.4286 - val_loss: 206.3011 - val_rmse: 14.3535 - val_mse: 206.3011\n",
            "Epoch 27/50\n",
            "1/1 [==============================] - 0s 318ms/step - loss: 182.2583 - rmse: 13.5003 - mse: 182.2583 - val_loss: 195.0263 - val_rmse: 13.9534 - val_mse: 195.0263\n",
            "Epoch 28/50\n",
            "1/1 [==============================] - 0s 303ms/step - loss: 175.3817 - rmse: 13.2432 - mse: 175.3817 - val_loss: 182.7128 - val_rmse: 13.5074 - val_mse: 182.7128\n",
            "Epoch 29/50\n",
            "1/1 [==============================] - 0s 290ms/step - loss: 146.4641 - rmse: 12.1022 - mse: 146.4641 - val_loss: 174.6880 - val_rmse: 13.2117 - val_mse: 174.6880\n",
            "Epoch 30/50\n",
            "1/1 [==============================] - 0s 297ms/step - loss: 129.1646 - rmse: 11.3651 - mse: 129.1646 - val_loss: 164.7059 - val_rmse: 12.8158 - val_mse: 164.7059\n",
            "Epoch 31/50\n",
            "1/1 [==============================] - 0s 305ms/step - loss: 138.4732 - rmse: 11.7675 - mse: 138.4732 - val_loss: 156.8783 - val_rmse: 12.5055 - val_mse: 156.8783\n",
            "Epoch 32/50\n",
            "1/1 [==============================] - 0s 289ms/step - loss: 95.3034 - rmse: 9.7623 - mse: 95.3034 - val_loss: 151.3850 - val_rmse: 12.2973 - val_mse: 151.3850\n",
            "Epoch 33/50\n",
            "1/1 [==============================] - 0s 304ms/step - loss: 151.5905 - rmse: 12.3122 - mse: 151.5905 - val_loss: 145.9393 - val_rmse: 12.0740 - val_mse: 145.9393\n",
            "Epoch 34/50\n",
            "1/1 [==============================] - 0s 289ms/step - loss: 164.3220 - rmse: 12.8188 - mse: 164.3220 - val_loss: 140.8826 - val_rmse: 11.8578 - val_mse: 140.8826\n",
            "Epoch 35/50\n",
            "1/1 [==============================] - 0s 314ms/step - loss: 104.2756 - rmse: 10.2115 - mse: 104.2756 - val_loss: 132.4569 - val_rmse: 11.4921 - val_mse: 132.4569\n",
            "Epoch 36/50\n",
            "1/1 [==============================] - 0s 306ms/step - loss: 128.8366 - rmse: 11.3506 - mse: 128.8366 - val_loss: 127.4337 - val_rmse: 11.2785 - val_mse: 127.4337\n",
            "Epoch 37/50\n",
            "1/1 [==============================] - 0s 317ms/step - loss: 89.6165 - rmse: 9.4666 - mse: 89.6165 - val_loss: 128.7404 - val_rmse: 11.3384 - val_mse: 128.7404\n",
            "Epoch 38/50\n",
            "1/1 [==============================] - 0s 278ms/step - loss: 124.2571 - rmse: 11.1471 - mse: 124.2571 - val_loss: 123.0078 - val_rmse: 11.0823 - val_mse: 123.0078\n",
            "Epoch 39/50\n",
            "1/1 [==============================] - 0s 295ms/step - loss: 128.4374 - rmse: 11.3330 - mse: 128.4374 - val_loss: 119.6667 - val_rmse: 10.9268 - val_mse: 119.6667\n",
            "Epoch 40/50\n",
            "1/1 [==============================] - 0s 283ms/step - loss: 94.1865 - rmse: 9.7050 - mse: 94.1865 - val_loss: 118.8107 - val_rmse: 10.8853 - val_mse: 118.8107\n",
            "Epoch 41/50\n",
            "1/1 [==============================] - 0s 307ms/step - loss: 88.5720 - rmse: 9.4113 - mse: 88.5720 - val_loss: 116.4681 - val_rmse: 10.7642 - val_mse: 116.4681\n",
            "Epoch 42/50\n",
            "1/1 [==============================] - 0s 284ms/step - loss: 107.1421 - rmse: 10.3509 - mse: 107.1421 - val_loss: 115.4531 - val_rmse: 10.7101 - val_mse: 115.4531\n",
            "Epoch 43/50\n",
            "1/1 [==============================] - 0s 311ms/step - loss: 95.1900 - rmse: 9.7565 - mse: 95.1900 - val_loss: 112.8870 - val_rmse: 10.6088 - val_mse: 112.8870\n",
            "Epoch 44/50\n",
            "1/1 [==============================] - 0s 303ms/step - loss: 83.2286 - rmse: 9.1230 - mse: 83.2286 - val_loss: 112.6885 - val_rmse: 10.6075 - val_mse: 112.6885\n",
            "Epoch 45/50\n",
            "1/1 [==============================] - 0s 316ms/step - loss: 71.8637 - rmse: 8.4772 - mse: 71.8637 - val_loss: 111.9792 - val_rmse: 10.5766 - val_mse: 111.9792\n",
            "Epoch 46/50\n",
            "1/1 [==============================] - 0s 305ms/step - loss: 114.0064 - rmse: 10.6774 - mse: 114.0064 - val_loss: 111.1605 - val_rmse: 10.5282 - val_mse: 111.1605\n",
            "Epoch 47/50\n",
            "1/1 [==============================] - 0s 315ms/step - loss: 106.6022 - rmse: 10.3248 - mse: 106.6022 - val_loss: 110.1721 - val_rmse: 10.4709 - val_mse: 110.1721\n",
            "Epoch 48/50\n",
            "1/1 [==============================] - 0s 317ms/step - loss: 88.5558 - rmse: 9.4104 - mse: 88.5558 - val_loss: 111.1084 - val_rmse: 10.5342 - val_mse: 111.1084\n",
            "Epoch 49/50\n",
            "1/1 [==============================] - 0s 296ms/step - loss: 81.8687 - rmse: 9.0481 - mse: 81.8687 - val_loss: 108.9650 - val_rmse: 10.4212 - val_mse: 108.9650\n",
            "Epoch 50/50\n",
            "1/1 [==============================] - 0s 332ms/step - loss: 74.5032 - rmse: 8.6315 - mse: 74.5032 - val_loss: 110.3736 - val_rmse: 10.5001 - val_mse: 110.3736\n"
          ],
          "name": "stdout"
        }
      ]
    },
    {
      "cell_type": "code",
      "metadata": {
        "id": "t26-5gacMxr8",
        "outputId": "2b70c277-4dc8-4f17-975e-42e5844dd6e7",
        "colab": {
          "base_uri": "https://localhost:8080/"
        }
      },
      "source": [
        "# The summary() is a generic function used to produce result summaries of the results of various model fitting functions.\n",
        "model.summary()"
      ],
      "id": "t26-5gacMxr8",
      "execution_count": 19,
      "outputs": [
        {
          "output_type": "stream",
          "text": [
            "Model: \"sequential\"\n",
            "_________________________________________________________________\n",
            "Layer (type)                 Output Shape              Param #   \n",
            "=================================================================\n",
            "dense_features (DenseFeature multiple                  0         \n",
            "_________________________________________________________________\n",
            "h1 (Dense)                   multiple                  192       \n",
            "_________________________________________________________________\n",
            "h2 (Dense)                   multiple                  264       \n",
            "_________________________________________________________________\n",
            "output (Dense)               multiple                  9         \n",
            "=================================================================\n",
            "Total params: 465\n",
            "Trainable params: 465\n",
            "Non-trainable params: 0\n",
            "_________________________________________________________________\n"
          ],
          "name": "stdout"
        }
      ]
    },
    {
      "cell_type": "code",
      "metadata": {
        "id": "F33E1j5nM6JO",
        "outputId": "4a7f04c4-e7b3-46cb-f5b6-8af5ca59b4d0",
        "colab": {
          "base_uri": "https://localhost:8080/",
          "height": 283
        }
      },
      "source": [
        "RMSE_COLS = ['rmse', 'val_rmse']\n",
        "\n",
        "# The history object is returned from calls to the fit() function used to train the model.\n",
        "# Metrics are stored in a dictionary in the history member of the object returned.\n",
        "pd.DataFrame(history.history)[RMSE_COLS].plot()"
      ],
      "id": "F33E1j5nM6JO",
      "execution_count": 20,
      "outputs": [
        {
          "output_type": "execute_result",
          "data": {
            "text/plain": [
              "<matplotlib.axes._subplots.AxesSubplot at 0x7f9663756890>"
            ]
          },
          "metadata": {
            "tags": []
          },
          "execution_count": 20
        },
        {
          "output_type": "display_data",
          "data": {
            "image/png": "[encoded data removed]",
            "text/plain": [
              "<Figure size 432x288 with 1 Axes>"
            ]
          },
          "metadata": {
            "tags": [],
            "needs_background": "light"
          }
        }
      ]
    },
    {
      "cell_type": "code",
      "metadata": {
        "id": "GXIaNWkCM9EM",
        "outputId": "269d65b4-8586-4502-a474-e97594952c22",
        "colab": {
          "base_uri": "https://localhost:8080/",
          "height": 283
        }
      },
      "source": [
        "LOSS_COLS = ['loss', 'val_loss']\n",
        "\n",
        "# The history object is returned from calls to the fit() function used to train the model.\n",
        "# Metrics are stored in a dictionary in the history member of the object returned.\n",
        "pd.DataFrame(history.history)[LOSS_COLS].plot()"
      ],
      "id": "GXIaNWkCM9EM",
      "execution_count": 21,
      "outputs": [
        {
          "output_type": "execute_result",
          "data": {
            "text/plain": [
              "<matplotlib.axes._subplots.AxesSubplot at 0x7f96657fc890>"
            ]
          },
          "metadata": {
            "tags": []
          },
          "execution_count": 21
        },
        {
          "output_type": "display_data",
          "data": {
            "image/png": "[encoded data removed]",
            "text/plain": [
              "<Figure size 432x288 with 1 Axes>"
            ]
          },
          "metadata": {
            "tags": [],
            "needs_background": "light"
          }
        }
      ]
    },
    {
      "cell_type": "code",
      "metadata": {
        "id": "VZvJaL91M-iw",
        "outputId": "5fe116a1-eb9f-4ac4-ed7a-725829b494ae",
        "colab": {
          "base_uri": "https://localhost:8080/"
        }
      },
      "source": [
        "# The predict() method will predict the response for model. \n",
        "# Using tf.convert_to_tensor() we will convert the given value to a Tensor. \n",
        "from collections import OrderedDict\n",
        "model.predict(x={\"pickup_longitude\": tf.convert_to_tensor([-73.982683]),\n",
        "                 \"pickup_latitude\": tf.convert_to_tensor([40.742104]),\n",
        "                 \"dropoff_longitude\": tf.convert_to_tensor([-73.983766]),\n",
        "                 \"dropoff_latitude\": tf.convert_to_tensor([40.755174]),\n",
        "                 \"passenger_count\": tf.convert_to_tensor([3.0])},\n",
        "              steps=1)"
      ],
      "id": "VZvJaL91M-iw",
      "execution_count": 31,
      "outputs": [
        {
          "output_type": "execute_result",
          "data": {
            "text/plain": [
              "array([[11.916386]], dtype=float32)"
            ]
          },
          "metadata": {
            "tags": []
          },
          "execution_count": 31
        }
      ]
    },
    {
      "cell_type": "code",
      "metadata": {
        "id": "_FGGzT5COe2A",
        "outputId": "4e086f2b-77aa-4885-85d7-7b3d98b7a482",
        "colab": {
          "base_uri": "https://localhost:8080/"
        }
      },
      "source": [
        "# TODO 4a\n",
        "OUTPUT_DIR = \"export/savedmodel\"\n",
        "shutil.rmtree(OUTPUT_DIR, ignore_errors=True)\n",
        "# The join() method takes all items in an iterable and joins them into one string.\n",
        "EXPORT_PATH = os.path.join(OUTPUT_DIR,\n",
        "                           datetime.datetime.now().strftime(\"%Y%m%d%H%M%S\"))\n",
        "tf.saved_model.save(model, EXPORT_PATH)  # with default serving function"
      ],
      "id": "_FGGzT5COe2A",
      "execution_count": 32,
      "outputs": [
        {
          "output_type": "stream",
          "text": [
            "WARNING:tensorflow:Layers in a Sequential model should only have a single input tensor, but we receive a <class 'collections.OrderedDict'> input: OrderedDict([('pickup_longitude', <tf.Tensor 'pickup_longitude:0' shape=(None, 1) dtype=float32>), ('pickup_latitude', <tf.Tensor 'pickup_latitude:0' shape=(None, 1) dtype=float32>), ('dropoff_longitude', <tf.Tensor 'dropoff_longitude:0' shape=(None, 1) dtype=float32>), ('dropoff_latitude', <tf.Tensor 'dropoff_latitude:0' shape=(None, 1) dtype=float32>), ('passenger_count', <tf.Tensor 'passenger_count:0' shape=(None, 1) dtype=float32>)])\n",
            "Consider rewriting this model with the Functional API.\n",
            "WARNING:tensorflow:Layers in a Sequential model should only have a single input tensor, but we receive a <class 'collections.OrderedDict'> input: OrderedDict([('pickup_longitude', <tf.Tensor 'pickup_longitude:0' shape=(None, 1) dtype=float32>), ('pickup_latitude', <tf.Tensor 'pickup_latitude:0' shape=(None, 1) dtype=float32>), ('dropoff_longitude', <tf.Tensor 'dropoff_longitude:0' shape=(None, 1) dtype=float32>), ('dropoff_latitude', <tf.Tensor 'dropoff_latitude:0' shape=(None, 1) dtype=float32>), ('passenger_count', <tf.Tensor 'passenger_count:0' shape=(None, 1) dtype=float32>)])\n",
            "Consider rewriting this model with the Functional API.\n",
            "WARNING:tensorflow:Layers in a Sequential model should only have a single input tensor, but we receive a <class 'collections.OrderedDict'> input: OrderedDict([('pickup_longitude', <tf.Tensor 'pickup_longitude:0' shape=(None, 1) dtype=float32>), ('pickup_latitude', <tf.Tensor 'pickup_latitude:0' shape=(None, 1) dtype=float32>), ('dropoff_longitude', <tf.Tensor 'dropoff_longitude:0' shape=(None, 1) dtype=float32>), ('dropoff_latitude', <tf.Tensor 'dropoff_latitude:0' shape=(None, 1) dtype=float32>), ('passenger_count', <tf.Tensor 'passenger_count:0' shape=(None, 1) dtype=float32>)])\n",
            "Consider rewriting this model with the Functional API.\n",
            "WARNING:tensorflow:Layers in a Sequential model should only have a single input tensor, but we receive a <class 'collections.OrderedDict'> input: OrderedDict([('pickup_longitude', <tf.Tensor 'inputs_4:0' shape=(None, 1) dtype=float32>), ('pickup_latitude', <tf.Tensor 'inputs_3:0' shape=(None, 1) dtype=float32>), ('dropoff_longitude', <tf.Tensor 'inputs_1:0' shape=(None, 1) dtype=float32>), ('dropoff_latitude', <tf.Tensor 'inputs:0' shape=(None, 1) dtype=float32>), ('passenger_count', <tf.Tensor 'inputs_2:0' shape=(None, 1) dtype=float32>)])\n",
            "Consider rewriting this model with the Functional API.\n",
            "WARNING:tensorflow:Layers in a Sequential model should only have a single input tensor, but we receive a <class 'collections.OrderedDict'> input: OrderedDict([('pickup_longitude', <tf.Tensor 'inputs_4:0' shape=(None, 1) dtype=float32>), ('pickup_latitude', <tf.Tensor 'inputs_3:0' shape=(None, 1) dtype=float32>), ('dropoff_longitude', <tf.Tensor 'inputs_1:0' shape=(None, 1) dtype=float32>), ('dropoff_latitude', <tf.Tensor 'inputs:0' shape=(None, 1) dtype=float32>), ('passenger_count', <tf.Tensor 'inputs_2:0' shape=(None, 1) dtype=float32>)])\n",
            "Consider rewriting this model with the Functional API.\n",
            "WARNING:tensorflow:Layers in a Sequential model should only have a single input tensor, but we receive a <class 'collections.OrderedDict'> input: OrderedDict([('pickup_longitude', <tf.Tensor 'pickup_longitude:0' shape=(None, 1) dtype=float32>), ('pickup_latitude', <tf.Tensor 'pickup_latitude:0' shape=(None, 1) dtype=float32>), ('dropoff_longitude', <tf.Tensor 'dropoff_longitude:0' shape=(None, 1) dtype=float32>), ('dropoff_latitude', <tf.Tensor 'dropoff_latitude:0' shape=(None, 1) dtype=float32>), ('passenger_count', <tf.Tensor 'passenger_count:0' shape=(None, 1) dtype=float32>)])\n",
            "Consider rewriting this model with the Functional API.\n",
            "WARNING:tensorflow:Layers in a Sequential model should only have a single input tensor, but we receive a <class 'collections.OrderedDict'> input: OrderedDict([('pickup_longitude', <tf.Tensor 'pickup_longitude:0' shape=(None, 1) dtype=float32>), ('pickup_latitude', <tf.Tensor 'pickup_latitude:0' shape=(None, 1) dtype=float32>), ('dropoff_longitude', <tf.Tensor 'dropoff_longitude:0' shape=(None, 1) dtype=float32>), ('dropoff_latitude', <tf.Tensor 'dropoff_latitude:0' shape=(None, 1) dtype=float32>), ('passenger_count', <tf.Tensor 'passenger_count:0' shape=(None, 1) dtype=float32>)])\n",
            "Consider rewriting this model with the Functional API.\n",
            "WARNING:tensorflow:Layers in a Sequential model should only have a single input tensor, but we receive a <class 'collections.OrderedDict'> input: OrderedDict([('pickup_longitude', <tf.Tensor 'inputs/pickup_longitude:0' shape=(None, 1) dtype=float32>), ('pickup_latitude', <tf.Tensor 'inputs/pickup_latitude:0' shape=(None, 1) dtype=float32>), ('dropoff_longitude', <tf.Tensor 'inputs/dropoff_longitude:0' shape=(None, 1) dtype=float32>), ('dropoff_latitude', <tf.Tensor 'inputs/dropoff_latitude:0' shape=(None, 1) dtype=float32>), ('passenger_count', <tf.Tensor 'inputs/passenger_count:0' shape=(None, 1) dtype=float32>)])\n",
            "Consider rewriting this model with the Functional API.\n",
            "WARNING:tensorflow:Layers in a Sequential model should only have a single input tensor, but we receive a <class 'collections.OrderedDict'> input: OrderedDict([('pickup_longitude', <tf.Tensor 'inputs/pickup_longitude:0' shape=(None, 1) dtype=float32>), ('pickup_latitude', <tf.Tensor 'inputs/pickup_latitude:0' shape=(None, 1) dtype=float32>), ('dropoff_longitude', <tf.Tensor 'inputs/dropoff_longitude:0' shape=(None, 1) dtype=float32>), ('dropoff_latitude', <tf.Tensor 'inputs/dropoff_latitude:0' shape=(None, 1) dtype=float32>), ('passenger_count', <tf.Tensor 'inputs/passenger_count:0' shape=(None, 1) dtype=float32>)])\n",
            "Consider rewriting this model with the Functional API.\n",
            "INFO:tensorflow:Assets written to: export/savedmodel/20210418042533/assets\n"
          ],
          "name": "stdout"
        }
      ]
    },
    {
      "cell_type": "code",
      "metadata": {
        "id": "J-7X0AOLOntY",
        "outputId": "d5637c71-c503-41b7-d8e3-21b72c9f2a80",
        "colab": {
          "base_uri": "https://localhost:8080/"
        }
      },
      "source": [
        "# Export the model to a TensorFlow SavedModel format\n",
        "!saved_model_cli show \\\n",
        " --tag_set serve \\\n",
        " --signature_def serving_default \\\n",
        " --dir {EXPORT_PATH}\n",
        "!find {EXPORT_PATH}\n",
        "os.environ['EXPORT_PATH'] = EXPORT_PATH"
      ],
      "id": "J-7X0AOLOntY",
      "execution_count": 35,
      "outputs": [
        {
          "output_type": "stream",
          "text": [
            "The given SavedModel SignatureDef contains the following input(s):\n",
            "  inputs['dropoff_latitude'] tensor_info:\n",
            "      dtype: DT_FLOAT\n",
            "      shape: (-1, 1)\n",
            "      name: serving_default_dropoff_latitude:0\n",
            "  inputs['dropoff_longitude'] tensor_info:\n",
            "      dtype: DT_FLOAT\n",
            "      shape: (-1, 1)\n",
            "      name: serving_default_dropoff_longitude:0\n",
            "  inputs['passenger_count'] tensor_info:\n",
            "      dtype: DT_FLOAT\n",
            "      shape: (-1, 1)\n",
            "      name: serving_default_passenger_count:0\n",
            "  inputs['pickup_latitude'] tensor_info:\n",
            "      dtype: DT_FLOAT\n",
            "      shape: (-1, 1)\n",
            "      name: serving_default_pickup_latitude:0\n",
            "  inputs['pickup_longitude'] tensor_info:\n",
            "      dtype: DT_FLOAT\n",
            "      shape: (-1, 1)\n",
            "      name: serving_default_pickup_longitude:0\n",
            "The given SavedModel SignatureDef contains the following output(s):\n",
            "  outputs['output_1'] tensor_info:\n",
            "      dtype: DT_FLOAT\n",
            "      shape: (-1, 1)\n",
            "      name: StatefulPartitionedCall:0\n",
            "Method name is: tensorflow/serving/predict\n",
            "export/savedmodel/20210418042533\n",
            "export/savedmodel/20210418042533/assets\n",
            "export/savedmodel/20210418042533/saved_model.pb\n",
            "export/savedmodel/20210418042533/variables\n",
            "export/savedmodel/20210418042533/variables/variables.data-00000-of-00001\n",
            "export/savedmodel/20210418042533/variables/variables.index\n"
          ],
          "name": "stdout"
        }
      ]
    }
  ]
}