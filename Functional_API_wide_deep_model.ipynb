{
  "nbformat": 4,
  "nbformat_minor": 5,
  "metadata": {
    "kernelspec": {
      "display_name": "Python 3",
      "language": "python",
      "name": "python3"
    },
    "language_info": {
      "codemirror_mode": {
        "name": "ipython",
        "version": 3
      },
      "file_extension": ".py",
      "mimetype": "text/x-python",
      "name": "python",
      "nbconvert_exporter": "python",
      "pygments_lexer": "ipython3",
      "version": "3.9.2"
    },
    "colab": {
      "name": "Functional_API_wide_deep_model.ipynb",
      "provenance": [],
      "toc_visible": true,
      "include_colab_link": true
    }
  },
  "cells": [
    {
      "cell_type": "markdown",
      "metadata": {
        "id": "view-in-github",
        "colab_type": "text"
      },
      "source": [
        "<a href=\"https://colab.research.google.com/github/DSNortsev/TensorFlow/blob/master/Functional_API_wide_deep_model.ipynb\" target=\"_parent\"><img src=\"https://colab.research.google.com/assets/colab-badge.svg\" alt=\"Open In Colab\"/></a>"
      ]
    },
    {
      "cell_type": "markdown",
      "metadata": {
        "id": "0MS9sHLXZUfN"
      },
      "source": [
        "## Useful link:\n",
        "\n",
        "https://medium.com/ml-book/demonstration-of-tensorflow-feature-columns-tf-feature-column-3bfcca4ca5c4\n",
        "\n",
        "https://arxiv.org/abs/1606.07792"
      ],
      "id": "0MS9sHLXZUfN"
    },
    {
      "cell_type": "markdown",
      "metadata": {
        "id": "rzljzSiqZeLj"
      },
      "source": [
        "\n",
        "## Tasks:\n",
        "* Understand embeddings and how to create them with the feature column API\n",
        "* Understand Deep and Wide models and when to use them\n",
        "* Understand the Keras functional API and how to build a deep and wide model with it\n",
        "\n"
      ],
      "id": "rzljzSiqZeLj"
    },
    {
      "cell_type": "code",
      "metadata": {
        "colab": {
          "base_uri": "https://localhost:8080/"
        },
        "id": "frozen-montana",
        "outputId": "c90539a2-aeb2-4d8c-9d6e-7037571cd84f"
      },
      "source": [
        "# Ensure the right version of Tensorflow is installed.\n",
        "!pip freeze | grep tensorflow==2.3 || pip install tensorflow==2.3"
      ],
      "id": "frozen-montana",
      "execution_count": 1,
      "outputs": [
        {
          "output_type": "stream",
          "text": [
            "Collecting tensorflow==2.3\n",
            "\u001b[?25l  Downloading https://files.pythonhosted.org/packages/16/89/f2d29c2eafc2eeafb17d5634340e06366af904d332341200a49d954bce85/tensorflow-2.3.0-cp37-cp37m-manylinux2010_x86_64.whl (320.4MB)\n",
            "\u001b[K     |████████████████████████████████| 320.4MB 42kB/s \n",
            "\u001b[?25hRequirement already satisfied: absl-py>=0.7.0 in /usr/local/lib/python3.7/dist-packages (from tensorflow==2.3) (0.12.0)\n",
            "Requirement already satisfied: astunparse==1.6.3 in /usr/local/lib/python3.7/dist-packages (from tensorflow==2.3) (1.6.3)\n",
            "Requirement already satisfied: gast==0.3.3 in /usr/local/lib/python3.7/dist-packages (from tensorflow==2.3) (0.3.3)\n",
            "Requirement already satisfied: keras-preprocessing<1.2,>=1.1.1 in /usr/local/lib/python3.7/dist-packages (from tensorflow==2.3) (1.1.2)\n",
            "Collecting tensorflow-estimator<2.4.0,>=2.3.0\n",
            "\u001b[?25l  Downloading https://files.pythonhosted.org/packages/e9/ed/5853ec0ae380cba4588eab1524e18ece1583b65f7ae0e97321f5ff9dfd60/tensorflow_estimator-2.3.0-py2.py3-none-any.whl (459kB)\n",
            "\u001b[K     |████████████████████████████████| 460kB 41.2MB/s \n",
            "\u001b[?25hRequirement already satisfied: termcolor>=1.1.0 in /usr/local/lib/python3.7/dist-packages (from tensorflow==2.3) (1.1.0)\n",
            "Requirement already satisfied: h5py<2.11.0,>=2.10.0 in /usr/local/lib/python3.7/dist-packages (from tensorflow==2.3) (2.10.0)\n",
            "Requirement already satisfied: wrapt>=1.11.1 in /usr/local/lib/python3.7/dist-packages (from tensorflow==2.3) (1.12.1)\n",
            "Requirement already satisfied: scipy==1.4.1 in /usr/local/lib/python3.7/dist-packages (from tensorflow==2.3) (1.4.1)\n",
            "Requirement already satisfied: grpcio>=1.8.6 in /usr/local/lib/python3.7/dist-packages (from tensorflow==2.3) (1.32.0)\n",
            "Requirement already satisfied: google-pasta>=0.1.8 in /usr/local/lib/python3.7/dist-packages (from tensorflow==2.3) (0.2.0)\n",
            "Requirement already satisfied: protobuf>=3.9.2 in /usr/local/lib/python3.7/dist-packages (from tensorflow==2.3) (3.12.4)\n",
            "Requirement already satisfied: wheel>=0.26 in /usr/local/lib/python3.7/dist-packages (from tensorflow==2.3) (0.36.2)\n",
            "Requirement already satisfied: opt-einsum>=2.3.2 in /usr/local/lib/python3.7/dist-packages (from tensorflow==2.3) (3.3.0)\n",
            "Requirement already satisfied: six>=1.12.0 in /usr/local/lib/python3.7/dist-packages (from tensorflow==2.3) (1.15.0)\n",
            "Collecting numpy<1.19.0,>=1.16.0\n",
            "\u001b[?25l  Downloading https://files.pythonhosted.org/packages/d6/c6/58e517e8b1fb192725cfa23c01c2e60e4e6699314ee9684a1c5f5c9b27e1/numpy-1.18.5-cp37-cp37m-manylinux1_x86_64.whl (20.1MB)\n",
            "\u001b[K     |████████████████████████████████| 20.1MB 1.3MB/s \n",
            "\u001b[?25hRequirement already satisfied: tensorboard<3,>=2.3.0 in /usr/local/lib/python3.7/dist-packages (from tensorflow==2.3) (2.4.1)\n",
            "Requirement already satisfied: setuptools in /usr/local/lib/python3.7/dist-packages (from protobuf>=3.9.2->tensorflow==2.3) (54.2.0)\n",
            "Requirement already satisfied: werkzeug>=0.11.15 in /usr/local/lib/python3.7/dist-packages (from tensorboard<3,>=2.3.0->tensorflow==2.3) (1.0.1)\n",
            "Requirement already satisfied: requests<3,>=2.21.0 in /usr/local/lib/python3.7/dist-packages (from tensorboard<3,>=2.3.0->tensorflow==2.3) (2.23.0)\n",
            "Requirement already satisfied: tensorboard-plugin-wit>=1.6.0 in /usr/local/lib/python3.7/dist-packages (from tensorboard<3,>=2.3.0->tensorflow==2.3) (1.8.0)\n",
            "Requirement already satisfied: google-auth-oauthlib<0.5,>=0.4.1 in /usr/local/lib/python3.7/dist-packages (from tensorboard<3,>=2.3.0->tensorflow==2.3) (0.4.4)\n",
            "Requirement already satisfied: markdown>=2.6.8 in /usr/local/lib/python3.7/dist-packages (from tensorboard<3,>=2.3.0->tensorflow==2.3) (3.3.4)\n",
            "Requirement already satisfied: google-auth<2,>=1.6.3 in /usr/local/lib/python3.7/dist-packages (from tensorboard<3,>=2.3.0->tensorflow==2.3) (1.28.1)\n",
            "Requirement already satisfied: chardet<4,>=3.0.2 in /usr/local/lib/python3.7/dist-packages (from requests<3,>=2.21.0->tensorboard<3,>=2.3.0->tensorflow==2.3) (3.0.4)\n",
            "Requirement already satisfied: urllib3!=1.25.0,!=1.25.1,<1.26,>=1.21.1 in /usr/local/lib/python3.7/dist-packages (from requests<3,>=2.21.0->tensorboard<3,>=2.3.0->tensorflow==2.3) (1.24.3)\n",
            "Requirement already satisfied: certifi>=2017.4.17 in /usr/local/lib/python3.7/dist-packages (from requests<3,>=2.21.0->tensorboard<3,>=2.3.0->tensorflow==2.3) (2020.12.5)\n",
            "Requirement already satisfied: idna<3,>=2.5 in /usr/local/lib/python3.7/dist-packages (from requests<3,>=2.21.0->tensorboard<3,>=2.3.0->tensorflow==2.3) (2.10)\n",
            "Requirement already satisfied: requests-oauthlib>=0.7.0 in /usr/local/lib/python3.7/dist-packages (from google-auth-oauthlib<0.5,>=0.4.1->tensorboard<3,>=2.3.0->tensorflow==2.3) (1.3.0)\n",
            "Requirement already satisfied: importlib-metadata; python_version < \"3.8\" in /usr/local/lib/python3.7/dist-packages (from markdown>=2.6.8->tensorboard<3,>=2.3.0->tensorflow==2.3) (3.10.1)\n",
            "Requirement already satisfied: pyasn1-modules>=0.2.1 in /usr/local/lib/python3.7/dist-packages (from google-auth<2,>=1.6.3->tensorboard<3,>=2.3.0->tensorflow==2.3) (0.2.8)\n",
            "Requirement already satisfied: cachetools<5.0,>=2.0.0 in /usr/local/lib/python3.7/dist-packages (from google-auth<2,>=1.6.3->tensorboard<3,>=2.3.0->tensorflow==2.3) (4.2.1)\n",
            "Requirement already satisfied: rsa<5,>=3.1.4; python_version >= \"3.6\" in /usr/local/lib/python3.7/dist-packages (from google-auth<2,>=1.6.3->tensorboard<3,>=2.3.0->tensorflow==2.3) (4.7.2)\n",
            "Requirement already satisfied: oauthlib>=3.0.0 in /usr/local/lib/python3.7/dist-packages (from requests-oauthlib>=0.7.0->google-auth-oauthlib<0.5,>=0.4.1->tensorboard<3,>=2.3.0->tensorflow==2.3) (3.1.0)\n",
            "Requirement already satisfied: zipp>=0.5 in /usr/local/lib/python3.7/dist-packages (from importlib-metadata; python_version < \"3.8\"->markdown>=2.6.8->tensorboard<3,>=2.3.0->tensorflow==2.3) (3.4.1)\n",
            "Requirement already satisfied: typing-extensions>=3.6.4; python_version < \"3.8\" in /usr/local/lib/python3.7/dist-packages (from importlib-metadata; python_version < \"3.8\"->markdown>=2.6.8->tensorboard<3,>=2.3.0->tensorflow==2.3) (3.7.4.3)\n",
            "Requirement already satisfied: pyasn1<0.5.0,>=0.4.6 in /usr/local/lib/python3.7/dist-packages (from pyasn1-modules>=0.2.1->google-auth<2,>=1.6.3->tensorboard<3,>=2.3.0->tensorflow==2.3) (0.4.8)\n",
            "\u001b[31mERROR: datascience 0.10.6 has requirement folium==0.2.1, but you'll have folium 0.8.3 which is incompatible.\u001b[0m\n",
            "\u001b[31mERROR: albumentations 0.1.12 has requirement imgaug<0.2.7,>=0.2.5, but you'll have imgaug 0.2.9 which is incompatible.\u001b[0m\n",
            "Installing collected packages: tensorflow-estimator, numpy, tensorflow\n",
            "  Found existing installation: tensorflow-estimator 2.4.0\n",
            "    Uninstalling tensorflow-estimator-2.4.0:\n",
            "      Successfully uninstalled tensorflow-estimator-2.4.0\n",
            "  Found existing installation: numpy 1.19.5\n",
            "    Uninstalling numpy-1.19.5:\n",
            "      Successfully uninstalled numpy-1.19.5\n",
            "  Found existing installation: tensorflow 2.4.1\n",
            "    Uninstalling tensorflow-2.4.1:\n",
            "      Successfully uninstalled tensorflow-2.4.1\n",
            "Successfully installed numpy-1.18.5 tensorflow-2.3.0 tensorflow-estimator-2.3.0\n"
          ],
          "name": "stdout"
        }
      ]
    },
    {
      "cell_type": "code",
      "metadata": {
        "colab": {
          "base_uri": "https://localhost:8080/"
        },
        "id": "7DAST5GrZUQl",
        "outputId": "015eb598-591a-43db-8d5c-425c1fadb0a5"
      },
      "source": [
        "# Importing necessary modules/libraries such as numpy, pandas and datetime.\n",
        "import datetime\n",
        "import os\n",
        "import shutil\n",
        "\n",
        "import numpy as np\n",
        "import pandas as pd\n",
        "import tensorflow as tf\n",
        "\n",
        "from matplotlib import pyplot as plt\n",
        "from tensorflow import keras\n",
        "\n",
        "from tensorflow import feature_column as fc\n",
        "\n",
        "from tensorflow.keras import Model\n",
        "from tensorflow.keras.layers import (\n",
        "    Input, Dense, DenseFeatures, concatenate)\n",
        "from tensorflow.keras.callbacks import TensorBoard\n",
        "\n",
        "print(tf.__version__)"
      ],
      "id": "7DAST5GrZUQl",
      "execution_count": 3,
      "outputs": [
        {
          "output_type": "stream",
          "text": [
            "2.3.0\n"
          ],
          "name": "stdout"
        }
      ]
    },
    {
      "cell_type": "code",
      "metadata": {
        "id": "VMIRoD4CZ_Cz"
      },
      "source": [
        "# It sets the backend of matplotlib to the 'inline' backend. The output of plotting commands is displayed inline within frontends, directly\n",
        "# below the code cell that produced it. The resulting plots will then also be stored in the notebook document.\n",
        "%matplotlib inline"
      ],
      "id": "VMIRoD4CZ_Cz",
      "execution_count": 4,
      "outputs": []
    },
    {
      "cell_type": "code",
      "metadata": {
        "colab": {
          "base_uri": "https://localhost:8080/"
        },
        "id": "mEfdI9lGaEiU",
        "outputId": "9c5b0d8c-b451-41eb-a31f-c442b645d19a"
      },
      "source": [
        "!ls -l *.csv"
      ],
      "id": "mEfdI9lGaEiU",
      "execution_count": 6,
      "outputs": [
        {
          "output_type": "stream",
          "text": [
            "-rw-r--r-- 1 root root 123590 Apr 20 03:52 taxi-test.csv\n",
            "-rw-r--r-- 1 root root 579055 Apr 20 03:52 taxi-train.csv\n",
            "-rw-r--r-- 1 root root 123114 Apr 20 03:52 taxi-valid.csv\n"
          ],
          "name": "stdout"
        }
      ]
    },
    {
      "cell_type": "code",
      "metadata": {
        "id": "j98_DgN5aUU5"
      },
      "source": [
        "# Selecting specific CSV_COLUMNS, LABEL_COLUMN, DEFAULTS, UNWANTED_COLS.\n",
        "CSV_COLUMNS = [\n",
        "    'fare_amount',\n",
        "    'pickup_datetime',\n",
        "    'pickup_longitude',\n",
        "    'pickup_latitude',\n",
        "    'dropoff_longitude',\n",
        "    'dropoff_latitude',\n",
        "    'passenger_count',\n",
        "    'key'\n",
        "]\n",
        "LABEL_COLUMN = 'fare_amount'\n",
        "DEFAULTS = [[0.0], ['na'], [0.0], [0.0], [0.0], [0.0], [0.0], ['na']]\n",
        "UNWANTED_COLS = ['pickup_datetime', 'key']\n",
        "\n",
        "\n",
        "# Create an input function reading a file using the Dataset API\n",
        "def features_and_labels(row_data):\n",
        "    label = row_data.pop(LABEL_COLUMN)\n",
        "    features = row_data\n",
        "        \n",
        "    for unwanted_col in UNWANTED_COLS:\n",
        "        features.pop(unwanted_col)\n",
        "\n",
        "    return features, label\n",
        "\n",
        "\n",
        "# Reading CSV files into a dataset.\n",
        "def create_dataset(pattern, batch_size=1, mode='eval'):\n",
        "    dataset = tf.data.experimental.make_csv_dataset(\n",
        "        pattern, batch_size, CSV_COLUMNS, DEFAULTS)\n",
        "\n",
        "    dataset = dataset.map(features_and_labels)\n",
        "    \n",
        "    if mode == 'train':\n",
        "        dataset = dataset.shuffle(buffer_size=1000).repeat()\n",
        "\n",
        "    # take advantage of multi-threading; 1=AUTOTUNE\n",
        "    dataset = dataset.prefetch(1)\n",
        "    return dataset"
      ],
      "id": "j98_DgN5aUU5",
      "execution_count": 7,
      "outputs": []
    },
    {
      "cell_type": "markdown",
      "metadata": {
        "id": "CQAayQWAaz2Y"
      },
      "source": [
        "## Feature columns for Wide and Deep model\n",
        "\n",
        "For the Wide columns, we will create feature columns of crossed features. To do this, we'll create a collection of Tensorflow feature columns to pass to the `tf.feature_column.crossed_column` constructor. The Deep columns will consist of numeric columns and the embedding columns we want to create. "
      ],
      "id": "CQAayQWAaz2Y"
    },
    {
      "cell_type": "code",
      "metadata": {
        "id": "FCiYksRhar35"
      },
      "source": [
        "# 1. Bucketize latitudes and longitudes\n",
        "NBUCKETS = 16\n",
        "latbuckets = np.linspace(start=38.0, stop=42.0, num=NBUCKETS).tolist()\n",
        "lonbuckets = np.linspace(start=-76.0, stop=-72.0, num=NBUCKETS).tolist()\n",
        "\n",
        "fc_bucketized_plat = fc.bucketized_column(\n",
        "    source_column=fc.numeric_column(\"pickup_longitude\"), boundaries=lonbuckets)\n",
        "fc_bucketized_plon = fc.bucketized_column(\n",
        "    source_column=fc.numeric_column(\"pickup_latitude\"), boundaries=latbuckets)\n",
        "fc_bucketized_dlat = fc.bucketized_column(\n",
        "    source_column=fc.numeric_column(\"dropoff_longitude\"), boundaries=lonbuckets)\n",
        "fc_bucketized_dlon = fc.bucketized_column(\n",
        "    source_column=fc.numeric_column(\"dropoff_latitude\"), boundaries=latbuckets)\n",
        "\n",
        "# 2. Cross features for locations\n",
        "fc_crossed_dloc = fc.crossed_column(\n",
        "    [fc_bucketized_dlat, fc_bucketized_dlon],\n",
        "    hash_bucket_size=NBUCKETS * NBUCKETS)\n",
        "fc_crossed_ploc = fc.crossed_column(\n",
        "    [fc_bucketized_plat, fc_bucketized_plon],\n",
        "    hash_bucket_size=NBUCKETS * NBUCKETS)\n",
        "fc_crossed_pd_pair = fc.crossed_column(\n",
        "    [fc_crossed_dloc, fc_crossed_ploc],\n",
        "    hash_bucket_size=NBUCKETS**4)\n",
        "\n",
        "# # 3. Create embedding columns for the crossed columns\n",
        "# fc_pd_pair = fc.embedding_column(categorical_column=fc_crossed_pd_pair, dimension=3)\n",
        "# fc_dloc = fc.embedding_column(categorical_column=fc_crossed_dloc, dimension=3)\n",
        "# fc_ploc = fc.embedding_column(categorical_column=fc_crossed_ploc, dimension=3)"
      ],
      "id": "FCiYksRhar35",
      "execution_count": 62,
      "outputs": []
    },
    {
      "cell_type": "markdown",
      "metadata": {
        "id": "TCyXakGaioT-"
      },
      "source": [
        "## Example:"
      ],
      "id": "TCyXakGaioT-"
    },
    {
      "cell_type": "code",
      "metadata": {
        "id": "npwqTd7ViSwI"
      },
      "source": [
        "from __future__ import absolute_import, division, print_function, unicode_literals\n",
        "import numpy as np\n",
        "import pandas as pd\n",
        "import tensorflow as tf \n",
        "from tensorflow import feature_column\n",
        "from tensorflow.keras import layers"
      ],
      "id": "npwqTd7ViSwI",
      "execution_count": 19,
      "outputs": []
    },
    {
      "cell_type": "code",
      "metadata": {
        "id": "rVEZRYQDidpH"
      },
      "source": [
        "data = {'marks': [55,21,63,88,74,54,95,41,84,52],\n",
        "        'grade': ['average','poor','average','good','good','average','good','average','good','average'],\n",
        "        'point': ['c','f','c+','b+','b','c','a','d+','b+','c']}"
      ],
      "id": "rVEZRYQDidpH",
      "execution_count": 16,
      "outputs": []
    },
    {
      "cell_type": "code",
      "metadata": {
        "colab": {
          "base_uri": "https://localhost:8080/",
          "height": 363
        },
        "id": "txrmgiXyigrZ",
        "outputId": "c0aa82ac-b1af-453a-adbd-ff9e5192b864"
      },
      "source": [
        "df = pd.DataFrame(data)\n",
        "df"
      ],
      "id": "txrmgiXyigrZ",
      "execution_count": 22,
      "outputs": [
        {
          "output_type": "execute_result",
          "data": {
            "text/html": [
              "<div>\n",
              "<style scoped>\n",
              "    .dataframe tbody tr th:only-of-type {\n",
              "        vertical-align: middle;\n",
              "    }\n",
              "\n",
              "    .dataframe tbody tr th {\n",
              "        vertical-align: top;\n",
              "    }\n",
              "\n",
              "    .dataframe thead th {\n",
              "        text-align: right;\n",
              "    }\n",
              "</style>\n",
              "<table border=\"1\" class=\"dataframe\">\n",
              "  <thead>\n",
              "    <tr style=\"text-align: right;\">\n",
              "      <th></th>\n",
              "      <th>marks</th>\n",
              "      <th>grade</th>\n",
              "      <th>point</th>\n",
              "    </tr>\n",
              "  </thead>\n",
              "  <tbody>\n",
              "    <tr>\n",
              "      <th>0</th>\n",
              "      <td>55</td>\n",
              "      <td>average</td>\n",
              "      <td>c</td>\n",
              "    </tr>\n",
              "    <tr>\n",
              "      <th>1</th>\n",
              "      <td>21</td>\n",
              "      <td>poor</td>\n",
              "      <td>f</td>\n",
              "    </tr>\n",
              "    <tr>\n",
              "      <th>2</th>\n",
              "      <td>63</td>\n",
              "      <td>average</td>\n",
              "      <td>c+</td>\n",
              "    </tr>\n",
              "    <tr>\n",
              "      <th>3</th>\n",
              "      <td>88</td>\n",
              "      <td>good</td>\n",
              "      <td>b+</td>\n",
              "    </tr>\n",
              "    <tr>\n",
              "      <th>4</th>\n",
              "      <td>74</td>\n",
              "      <td>good</td>\n",
              "      <td>b</td>\n",
              "    </tr>\n",
              "    <tr>\n",
              "      <th>5</th>\n",
              "      <td>54</td>\n",
              "      <td>average</td>\n",
              "      <td>c</td>\n",
              "    </tr>\n",
              "    <tr>\n",
              "      <th>6</th>\n",
              "      <td>95</td>\n",
              "      <td>good</td>\n",
              "      <td>a</td>\n",
              "    </tr>\n",
              "    <tr>\n",
              "      <th>7</th>\n",
              "      <td>41</td>\n",
              "      <td>average</td>\n",
              "      <td>d+</td>\n",
              "    </tr>\n",
              "    <tr>\n",
              "      <th>8</th>\n",
              "      <td>84</td>\n",
              "      <td>good</td>\n",
              "      <td>b+</td>\n",
              "    </tr>\n",
              "    <tr>\n",
              "      <th>9</th>\n",
              "      <td>52</td>\n",
              "      <td>average</td>\n",
              "      <td>c</td>\n",
              "    </tr>\n",
              "  </tbody>\n",
              "</table>\n",
              "</div>"
            ],
            "text/plain": [
              "   marks    grade point\n",
              "0     55  average     c\n",
              "1     21     poor     f\n",
              "2     63  average    c+\n",
              "3     88     good    b+\n",
              "4     74     good     b\n",
              "5     54  average     c\n",
              "6     95     good     a\n",
              "7     41  average    d+\n",
              "8     84     good    b+\n",
              "9     52  average     c"
            ]
          },
          "metadata": {
            "tags": []
          },
          "execution_count": 22
        }
      ]
    },
    {
      "cell_type": "markdown",
      "metadata": {
        "id": "RM2eAZ-zjTsi"
      },
      "source": [
        "### Numeric columns"
      ],
      "id": "RM2eAZ-zjTsi"
    },
    {
      "cell_type": "code",
      "metadata": {
        "id": "kMtAD1r9imqX"
      },
      "source": [
        "# A utility method to show transromation from feature column\n",
        "def demo(feature_column):\n",
        "  feature_layer = layers.DenseFeatures(feature_column)\n",
        "  print(feature_layer(data).numpy())"
      ],
      "id": "kMtAD1r9imqX",
      "execution_count": 27,
      "outputs": []
    },
    {
      "cell_type": "code",
      "metadata": {
        "colab": {
          "base_uri": "https://localhost:8080/"
        },
        "id": "9jWEwKhIiiAs",
        "outputId": "6daaa221-ae11-49c1-a807-2ef67db1c228"
      },
      "source": [
        "marks = feature_column.numeric_column(\"marks\")\n",
        "demo(marks)"
      ],
      "id": "9jWEwKhIiiAs",
      "execution_count": 28,
      "outputs": [
        {
          "output_type": "stream",
          "text": [
            "[[55.]\n",
            " [21.]\n",
            " [63.]\n",
            " [88.]\n",
            " [74.]\n",
            " [54.]\n",
            " [95.]\n",
            " [41.]\n",
            " [84.]\n",
            " [52.]]\n"
          ],
          "name": "stdout"
        }
      ]
    },
    {
      "cell_type": "markdown",
      "metadata": {
        "id": "QADXvf6OjWhg"
      },
      "source": [
        "### Bucketized columns"
      ],
      "id": "QADXvf6OjWhg"
    },
    {
      "cell_type": "code",
      "metadata": {
        "colab": {
          "base_uri": "https://localhost:8080/"
        },
        "id": "ewlMILnljaKV",
        "outputId": "018c2c88-220c-42d2-cda1-269c6a6b58fd"
      },
      "source": [
        "marks_buckets = feature_column.bucketized_column(marks, boundaries=[30,40,50,60,70,80,90])\n",
        "demo(marks_buckets)"
      ],
      "id": "ewlMILnljaKV",
      "execution_count": 29,
      "outputs": [
        {
          "output_type": "stream",
          "text": [
            "[[0. 0. 0. 1. 0. 0. 0. 0.]\n",
            " [1. 0. 0. 0. 0. 0. 0. 0.]\n",
            " [0. 0. 0. 0. 1. 0. 0. 0.]\n",
            " [0. 0. 0. 0. 0. 0. 1. 0.]\n",
            " [0. 0. 0. 0. 0. 1. 0. 0.]\n",
            " [0. 0. 0. 1. 0. 0. 0. 0.]\n",
            " [0. 0. 0. 0. 0. 0. 0. 1.]\n",
            " [0. 0. 1. 0. 0. 0. 0. 0.]\n",
            " [0. 0. 0. 0. 0. 0. 1. 0.]\n",
            " [0. 0. 0. 1. 0. 0. 0. 0.]]\n"
          ],
          "name": "stdout"
        }
      ]
    },
    {
      "cell_type": "markdown",
      "metadata": {
        "id": "FBjAjg0RjjzK"
      },
      "source": [
        "### Categorical Columns\n",
        "\n",
        "Indicator and embedding columns"
      ],
      "id": "FBjAjg0RjjzK"
    },
    {
      "cell_type": "code",
      "metadata": {
        "colab": {
          "base_uri": "https://localhost:8080/"
        },
        "id": "pM5ucet3jsyJ",
        "outputId": "c974c9c1-9069-467e-ddce-ec3bce8de11a"
      },
      "source": [
        "grade = feature_column.categorical_column_with_vocabulary_list(\n",
        "      'grade', ['poor', 'average', 'good'])\n",
        "grade_one_hot = feature_column.indicator_column(grade)\n",
        "demo(grade_one_hot)"
      ],
      "id": "pM5ucet3jsyJ",
      "execution_count": 43,
      "outputs": [
        {
          "output_type": "stream",
          "text": [
            "[[0. 1. 0.]\n",
            " [1. 0. 0.]\n",
            " [0. 1. 0.]\n",
            " [0. 0. 1.]\n",
            " [0. 0. 1.]\n",
            " [0. 1. 0.]\n",
            " [0. 0. 1.]\n",
            " [0. 1. 0.]\n",
            " [0. 0. 1.]\n",
            " [0. 1. 0.]]\n"
          ],
          "name": "stdout"
        }
      ]
    },
    {
      "cell_type": "markdown",
      "metadata": {
        "id": "GQxvaoBnj5v8"
      },
      "source": [
        "### Hashed feature columns"
      ],
      "id": "GQxvaoBnj5v8"
    },
    {
      "cell_type": "code",
      "metadata": {
        "colab": {
          "base_uri": "https://localhost:8080/"
        },
        "id": "06CJ_wZskb1e",
        "outputId": "79ebb008-0602-4e76-ecce-957e13777e6e"
      },
      "source": [
        "point_hashed = feature_column.categorical_column_with_hash_bucket(\n",
        "      'point', hash_bucket_size=4)\n",
        "demo(feature_column.indicator_column(point_hashed))"
      ],
      "id": "06CJ_wZskb1e",
      "execution_count": 31,
      "outputs": [
        {
          "output_type": "stream",
          "text": [
            "[[1. 0. 0. 0.]\n",
            " [1. 0. 0. 0.]\n",
            " [0. 1. 0. 0.]\n",
            " [0. 0. 0. 1.]\n",
            " [0. 0. 1. 0.]\n",
            " [1. 0. 0. 0.]\n",
            " [0. 0. 0. 1.]\n",
            " [1. 0. 0. 0.]\n",
            " [0. 0. 0. 1.]\n",
            " [1. 0. 0. 0.]]\n"
          ],
          "name": "stdout"
        }
      ]
    },
    {
      "cell_type": "markdown",
      "metadata": {
        "id": "mKd9BLrPk25o"
      },
      "source": [
        "### Crossed feature columns"
      ],
      "id": "mKd9BLrPk25o"
    },
    {
      "cell_type": "code",
      "metadata": {
        "colab": {
          "base_uri": "https://localhost:8080/"
        },
        "id": "VBx9GU3hk4fF",
        "outputId": "7f9479b1-c94c-486d-d4b6-7314fba1ce17"
      },
      "source": [
        "crossed_feature = feature_column.crossed_column([marks_buckets, grade], hash_bucket_size=10)\n",
        "demo(feature_column.indicator_column(crossed_feature))"
      ],
      "id": "VBx9GU3hk4fF",
      "execution_count": 45,
      "outputs": [
        {
          "output_type": "stream",
          "text": [
            "[[0. 0. 0. 0. 0. 0. 0. 0. 1. 0.]\n",
            " [0. 0. 0. 0. 1. 0. 0. 0. 0. 0.]\n",
            " [0. 0. 0. 0. 1. 0. 0. 0. 0. 0.]\n",
            " [0. 0. 0. 0. 1. 0. 0. 0. 0. 0.]\n",
            " [1. 0. 0. 0. 0. 0. 0. 0. 0. 0.]\n",
            " [0. 0. 0. 0. 0. 0. 0. 0. 1. 0.]\n",
            " [0. 0. 0. 0. 0. 1. 0. 0. 0. 0.]\n",
            " [0. 0. 0. 0. 0. 0. 1. 0. 0. 0.]\n",
            " [0. 0. 0. 0. 1. 0. 0. 0. 0. 0.]\n",
            " [0. 0. 0. 0. 0. 0. 0. 0. 1. 0.]]\n"
          ],
          "name": "stdout"
        }
      ]
    },
    {
      "cell_type": "code",
      "metadata": {
        "colab": {
          "base_uri": "https://localhost:8080/"
        },
        "id": "chLYTa20k9ny",
        "outputId": "2cbc6e99-13f8-4127-9eac-69ccd70ac741"
      },
      "source": [
        "demo(marks_buckets)"
      ],
      "id": "chLYTa20k9ny",
      "execution_count": 34,
      "outputs": [
        {
          "output_type": "stream",
          "text": [
            "[[0. 0. 0. 1. 0. 0. 0. 0.]\n",
            " [1. 0. 0. 0. 0. 0. 0. 0.]\n",
            " [0. 0. 0. 0. 1. 0. 0. 0.]\n",
            " [0. 0. 0. 0. 0. 0. 1. 0.]\n",
            " [0. 0. 0. 0. 0. 1. 0. 0.]\n",
            " [0. 0. 0. 1. 0. 0. 0. 0.]\n",
            " [0. 0. 0. 0. 0. 0. 0. 1.]\n",
            " [0. 0. 1. 0. 0. 0. 0. 0.]\n",
            " [0. 0. 0. 0. 0. 0. 1. 0.]\n",
            " [0. 0. 0. 1. 0. 0. 0. 0.]]\n"
          ],
          "name": "stdout"
        }
      ]
    },
    {
      "cell_type": "markdown",
      "metadata": {
        "id": "iZ0zIBsemHl-"
      },
      "source": [
        "### Point column as embedding_column"
      ],
      "id": "iZ0zIBsemHl-"
    },
    {
      "cell_type": "code",
      "metadata": {
        "colab": {
          "base_uri": "https://localhost:8080/"
        },
        "id": "o-ZxSFvgmhuu",
        "outputId": "175e311a-3be6-4323-87c7-89169d60be42"
      },
      "source": [
        "df['point'].unique()"
      ],
      "id": "o-ZxSFvgmhuu",
      "execution_count": 52,
      "outputs": [
        {
          "output_type": "execute_result",
          "data": {
            "text/plain": [
              "array(['c', 'f', 'c+', 'b+', 'b', 'a', 'd+'], dtype=object)"
            ]
          },
          "metadata": {
            "tags": []
          },
          "execution_count": 52
        }
      ]
    },
    {
      "cell_type": "code",
      "metadata": {
        "colab": {
          "base_uri": "https://localhost:8080/"
        },
        "id": "NvkyTWhYmVKq",
        "outputId": "26b7d9db-bd9b-4d86-b6f6-17c07bc6b00c"
      },
      "source": [
        "point = feature_column.categorical_column_with_vocabulary_list(\n",
        " 'point', df['point'].unique())\n",
        "point_one_hot = feature_column.indicator_column(point)\n",
        "demo(point_one_hot)"
      ],
      "id": "NvkyTWhYmVKq",
      "execution_count": 51,
      "outputs": [
        {
          "output_type": "stream",
          "text": [
            "[[1. 0. 0. 0. 0. 0. 0.]\n",
            " [0. 1. 0. 0. 0. 0. 0.]\n",
            " [0. 0. 1. 0. 0. 0. 0.]\n",
            " [0. 0. 0. 1. 0. 0. 0.]\n",
            " [0. 0. 0. 0. 1. 0. 0.]\n",
            " [1. 0. 0. 0. 0. 0. 0.]\n",
            " [0. 0. 0. 0. 0. 1. 0.]\n",
            " [0. 0. 0. 0. 0. 0. 1.]\n",
            " [0. 0. 0. 1. 0. 0. 0.]\n",
            " [1. 0. 0. 0. 0. 0. 0.]]\n"
          ],
          "name": "stdout"
        }
      ]
    },
    {
      "cell_type": "code",
      "metadata": {
        "colab": {
          "base_uri": "https://localhost:8080/"
        },
        "id": "M5cgmov8k9Ng",
        "outputId": "ec05e43a-fa50-4650-a334-ccc38d8d109a"
      },
      "source": [
        "# Notice the input to the embedding column is the categorical column\n",
        "# we previously created\n",
        "point_embedding = feature_column.embedding_column(point, dimension=4)\n",
        "demo(point_embedding)"
      ],
      "id": "M5cgmov8k9Ng",
      "execution_count": 61,
      "outputs": [
        {
          "output_type": "stream",
          "text": [
            "[[-0.37177014  0.57047707 -0.37011644 -0.15891144]\n",
            " [-0.10197097  0.17196073 -0.26702294  0.6620817 ]\n",
            " [ 0.02254871  0.15997678  0.131773    0.7517294 ]\n",
            " [ 0.00913978 -0.5549619  -0.17353259  0.23846406]\n",
            " [ 0.29508775  0.24964562  0.3628078  -0.14540131]\n",
            " [-0.37177014  0.57047707 -0.37011644 -0.15891144]\n",
            " [ 0.7549507  -0.09860963  0.47337073 -0.45320833]\n",
            " [ 0.12721735  0.50448644 -0.67819166 -0.3631153 ]\n",
            " [ 0.00913978 -0.5549619  -0.17353259  0.23846406]\n",
            " [-0.37177014  0.57047707 -0.37011644 -0.15891144]]\n"
          ],
          "name": "stdout"
        }
      ]
    },
    {
      "cell_type": "code",
      "metadata": {
        "colab": {
          "base_uri": "https://localhost:8080/",
          "height": 345
        },
        "id": "VVqD7gKknc0L",
        "outputId": "dc344531-b147-4b33-f286-d638b6831e88"
      },
      "source": [
        "point_embedding2 = feature_column.embedding_column(point_embedding, dimension=3)\n",
        "demo(point_embedding2)"
      ],
      "id": "VVqD7gKknc0L",
      "execution_count": 60,
      "outputs": [
        {
          "output_type": "error",
          "ename": "AttributeError",
          "evalue": "ignored",
          "traceback": [
            "\u001b[0;31m---------------------------------------------------------------------------\u001b[0m",
            "\u001b[0;31mAttributeError\u001b[0m                            Traceback (most recent call last)",
            "\u001b[0;32m<ipython-input-60-a3dba0c17b02>\u001b[0m in \u001b[0;36m<module>\u001b[0;34m()\u001b[0m\n\u001b[1;32m      1\u001b[0m \u001b[0mpoint_embedding2\u001b[0m \u001b[0;34m=\u001b[0m \u001b[0mfeature_column\u001b[0m\u001b[0;34m.\u001b[0m\u001b[0membedding_column\u001b[0m\u001b[0;34m(\u001b[0m\u001b[0mpoint_embedding\u001b[0m\u001b[0;34m,\u001b[0m \u001b[0mdimension\u001b[0m\u001b[0;34m=\u001b[0m\u001b[0;36m3\u001b[0m\u001b[0;34m)\u001b[0m\u001b[0;34m\u001b[0m\u001b[0;34m\u001b[0m\u001b[0m\n\u001b[0;32m----> 2\u001b[0;31m \u001b[0mdemo\u001b[0m\u001b[0;34m(\u001b[0m\u001b[0mpoint_embedding2\u001b[0m\u001b[0;34m)\u001b[0m\u001b[0;34m\u001b[0m\u001b[0;34m\u001b[0m\u001b[0m\n\u001b[0m",
            "\u001b[0;32m<ipython-input-27-7cdc7274e9b4>\u001b[0m in \u001b[0;36mdemo\u001b[0;34m(feature_column)\u001b[0m\n\u001b[1;32m      2\u001b[0m \u001b[0;32mdef\u001b[0m \u001b[0mdemo\u001b[0m\u001b[0;34m(\u001b[0m\u001b[0mfeature_column\u001b[0m\u001b[0;34m)\u001b[0m\u001b[0;34m:\u001b[0m\u001b[0;34m\u001b[0m\u001b[0;34m\u001b[0m\u001b[0m\n\u001b[1;32m      3\u001b[0m   \u001b[0mfeature_layer\u001b[0m \u001b[0;34m=\u001b[0m \u001b[0mlayers\u001b[0m\u001b[0;34m.\u001b[0m\u001b[0mDenseFeatures\u001b[0m\u001b[0;34m(\u001b[0m\u001b[0mfeature_column\u001b[0m\u001b[0;34m)\u001b[0m\u001b[0;34m\u001b[0m\u001b[0;34m\u001b[0m\u001b[0m\n\u001b[0;32m----> 4\u001b[0;31m   \u001b[0mprint\u001b[0m\u001b[0;34m(\u001b[0m\u001b[0mfeature_layer\u001b[0m\u001b[0;34m(\u001b[0m\u001b[0mdata\u001b[0m\u001b[0;34m)\u001b[0m\u001b[0;34m.\u001b[0m\u001b[0mnumpy\u001b[0m\u001b[0;34m(\u001b[0m\u001b[0;34m)\u001b[0m\u001b[0;34m)\u001b[0m\u001b[0;34m\u001b[0m\u001b[0;34m\u001b[0m\u001b[0m\n\u001b[0m",
            "\u001b[0;32m/usr/local/lib/python3.7/dist-packages/tensorflow/python/keras/engine/base_layer.py\u001b[0m in \u001b[0;36m__call__\u001b[0;34m(self, *args, **kwargs)\u001b[0m\n\u001b[1;32m    980\u001b[0m       \u001b[0;32mwith\u001b[0m \u001b[0mops\u001b[0m\u001b[0;34m.\u001b[0m\u001b[0mname_scope_v2\u001b[0m\u001b[0;34m(\u001b[0m\u001b[0mname_scope\u001b[0m\u001b[0;34m)\u001b[0m\u001b[0;34m:\u001b[0m\u001b[0;34m\u001b[0m\u001b[0;34m\u001b[0m\u001b[0m\n\u001b[1;32m    981\u001b[0m         \u001b[0;32mif\u001b[0m \u001b[0;32mnot\u001b[0m \u001b[0mself\u001b[0m\u001b[0;34m.\u001b[0m\u001b[0mbuilt\u001b[0m\u001b[0;34m:\u001b[0m\u001b[0;34m\u001b[0m\u001b[0;34m\u001b[0m\u001b[0m\n\u001b[0;32m--> 982\u001b[0;31m           \u001b[0mself\u001b[0m\u001b[0;34m.\u001b[0m\u001b[0m_maybe_build\u001b[0m\u001b[0;34m(\u001b[0m\u001b[0minputs\u001b[0m\u001b[0;34m)\u001b[0m\u001b[0;34m\u001b[0m\u001b[0;34m\u001b[0m\u001b[0m\n\u001b[0m\u001b[1;32m    983\u001b[0m \u001b[0;34m\u001b[0m\u001b[0m\n\u001b[1;32m    984\u001b[0m         \u001b[0;32mwith\u001b[0m \u001b[0mops\u001b[0m\u001b[0;34m.\u001b[0m\u001b[0menable_auto_cast_variables\u001b[0m\u001b[0;34m(\u001b[0m\u001b[0mself\u001b[0m\u001b[0;34m.\u001b[0m\u001b[0m_compute_dtype_object\u001b[0m\u001b[0;34m)\u001b[0m\u001b[0;34m:\u001b[0m\u001b[0;34m\u001b[0m\u001b[0;34m\u001b[0m\u001b[0m\n",
            "\u001b[0;32m/usr/local/lib/python3.7/dist-packages/tensorflow/python/keras/engine/base_layer.py\u001b[0m in \u001b[0;36m_maybe_build\u001b[0;34m(self, inputs)\u001b[0m\n\u001b[1;32m   2641\u001b[0m         \u001b[0;31m# operations.\u001b[0m\u001b[0;34m\u001b[0m\u001b[0;34m\u001b[0m\u001b[0;34m\u001b[0m\u001b[0m\n\u001b[1;32m   2642\u001b[0m         \u001b[0;32mwith\u001b[0m \u001b[0mtf_utils\u001b[0m\u001b[0;34m.\u001b[0m\u001b[0mmaybe_init_scope\u001b[0m\u001b[0;34m(\u001b[0m\u001b[0mself\u001b[0m\u001b[0;34m)\u001b[0m\u001b[0;34m:\u001b[0m\u001b[0;34m\u001b[0m\u001b[0;34m\u001b[0m\u001b[0m\n\u001b[0;32m-> 2643\u001b[0;31m           \u001b[0mself\u001b[0m\u001b[0;34m.\u001b[0m\u001b[0mbuild\u001b[0m\u001b[0;34m(\u001b[0m\u001b[0minput_shapes\u001b[0m\u001b[0;34m)\u001b[0m  \u001b[0;31m# pylint:disable=not-callable\u001b[0m\u001b[0;34m\u001b[0m\u001b[0;34m\u001b[0m\u001b[0m\n\u001b[0m\u001b[1;32m   2644\u001b[0m       \u001b[0;31m# We must set also ensure that the layer is marked as built, and the build\u001b[0m\u001b[0;34m\u001b[0m\u001b[0;34m\u001b[0m\u001b[0;34m\u001b[0m\u001b[0m\n\u001b[1;32m   2645\u001b[0m       \u001b[0;31m# shape is stored since user defined build functions may not be calling\u001b[0m\u001b[0;34m\u001b[0m\u001b[0;34m\u001b[0m\u001b[0;34m\u001b[0m\u001b[0m\n",
            "\u001b[0;32m/usr/local/lib/python3.7/dist-packages/tensorflow/python/keras/feature_column/dense_features_v2.py\u001b[0m in \u001b[0;36mbuild\u001b[0;34m(self, _)\u001b[0m\n\u001b[1;32m     91\u001b[0m     \u001b[0;32mfor\u001b[0m \u001b[0mcolumn\u001b[0m \u001b[0;32min\u001b[0m \u001b[0mself\u001b[0m\u001b[0;34m.\u001b[0m\u001b[0m_feature_columns\u001b[0m\u001b[0;34m:\u001b[0m\u001b[0;34m\u001b[0m\u001b[0;34m\u001b[0m\u001b[0m\n\u001b[1;32m     92\u001b[0m       \u001b[0;32mwith\u001b[0m \u001b[0mops\u001b[0m\u001b[0;34m.\u001b[0m\u001b[0mname_scope\u001b[0m\u001b[0;34m(\u001b[0m\u001b[0mcolumn\u001b[0m\u001b[0;34m.\u001b[0m\u001b[0mname\u001b[0m\u001b[0;34m)\u001b[0m\u001b[0;34m:\u001b[0m\u001b[0;34m\u001b[0m\u001b[0;34m\u001b[0m\u001b[0m\n\u001b[0;32m---> 93\u001b[0;31m         \u001b[0mcolumn\u001b[0m\u001b[0;34m.\u001b[0m\u001b[0mcreate_state\u001b[0m\u001b[0;34m(\u001b[0m\u001b[0mself\u001b[0m\u001b[0;34m.\u001b[0m\u001b[0m_state_manager\u001b[0m\u001b[0;34m)\u001b[0m\u001b[0;34m\u001b[0m\u001b[0;34m\u001b[0m\u001b[0m\n\u001b[0m\u001b[1;32m     94\u001b[0m     \u001b[0;31m# We would like to call Layer.build and not _DenseFeaturesHelper.build.\u001b[0m\u001b[0;34m\u001b[0m\u001b[0;34m\u001b[0m\u001b[0;34m\u001b[0m\u001b[0m\n\u001b[1;32m     95\u001b[0m     \u001b[0;31m# pylint: disable=protected-access\u001b[0m\u001b[0;34m\u001b[0m\u001b[0;34m\u001b[0m\u001b[0;34m\u001b[0m\u001b[0m\n",
            "\u001b[0;32m/usr/local/lib/python3.7/dist-packages/tensorflow/python/feature_column/feature_column_v2.py\u001b[0m in \u001b[0;36mcreate_state\u001b[0;34m(self, state_manager)\u001b[0m\n\u001b[1;32m   2859\u001b[0m     \u001b[0;34m\"\"\"Creates the embedding lookup variable.\"\"\"\u001b[0m\u001b[0;34m\u001b[0m\u001b[0;34m\u001b[0m\u001b[0m\n\u001b[1;32m   2860\u001b[0m     default_num_buckets = (self.categorical_column.num_buckets\n\u001b[0;32m-> 2861\u001b[0;31m                            \u001b[0;32mif\u001b[0m \u001b[0mself\u001b[0m\u001b[0;34m.\u001b[0m\u001b[0m_is_v2_column\u001b[0m\u001b[0;34m\u001b[0m\u001b[0;34m\u001b[0m\u001b[0m\n\u001b[0m\u001b[1;32m   2862\u001b[0m                            else self.categorical_column._num_buckets)   # pylint: disable=protected-access\n\u001b[1;32m   2863\u001b[0m     num_buckets = getattr(self.categorical_column, 'num_buckets',\n",
            "\u001b[0;31mAttributeError\u001b[0m: 'EmbeddingColumn' object has no attribute 'num_buckets'"
          ]
        }
      ]
    },
    {
      "cell_type": "code",
      "metadata": {
        "colab": {
          "base_uri": "https://localhost:8080/"
        },
        "id": "tO9_6YiqmQ24",
        "outputId": "328bd94f-219d-405c-fd89-5c75688b1dcf"
      },
      "source": [
        "df['point'].unique()"
      ],
      "id": "tO9_6YiqmQ24",
      "execution_count": 48,
      "outputs": [
        {
          "output_type": "execute_result",
          "data": {
            "text/plain": [
              "array(['c', 'f', 'c+', 'b+', 'b', 'a', 'd+'], dtype=object)"
            ]
          },
          "metadata": {
            "tags": []
          },
          "execution_count": 48
        }
      ]
    },
    {
      "cell_type": "markdown",
      "metadata": {
        "id": "4t3xzas5nECL"
      },
      "source": [
        "### Gather list of feature columns\n",
        "\n",
        "Next we gather the list of wide and deep feature columns we'll pass to our Wide & Deep model in Tensorflow. Recall, wide columns are sparse, have linear relationship with the output while continuous columns are deep, have a complex relationship with the output. We will use our previously bucketized columns to collect crossed feature columns and sparse feature columns for our wide columns, and embedding feature columns and numeric features columns for the deep columns."
      ],
      "id": "4t3xzas5nECL"
    },
    {
      "cell_type": "code",
      "metadata": {
        "id": "rq8qHB_Gm7iN"
      },
      "source": [
        "wide_columns = [\n",
        "    # One-hot encoded feature crosses\n",
        "    fc.indicator_column(fc_crossed_dloc),\n",
        "    fc.indicator_column(fc_crossed_ploc),\n",
        "    fc.indicator_column(fc_crossed_pd_pair)\n",
        "]\n",
        "\n",
        "deep_columns = [\n",
        "    # Embedding_column to \"group\" together ...\n",
        "    fc.embedding_column(fc_crossed_pd_pair, dimension=10),\n",
        "\n",
        "    # Numeric columns\n",
        "    fc.numeric_column(\"pickup_latitude\"),\n",
        "    fc.numeric_column(\"pickup_longitude\"),\n",
        "    fc.numeric_column(\"dropoff_longitude\"),\n",
        "    fc.numeric_column(\"dropoff_latitude\")\n",
        "]"
      ],
      "id": "rq8qHB_Gm7iN",
      "execution_count": 63,
      "outputs": []
    },
    {
      "cell_type": "markdown",
      "metadata": {
        "id": "oEpBlsupoxFQ"
      },
      "source": [
        "## Build a Wide and Deep model in Keras\n",
        "\n",
        "To build a wide-and-deep network, we connect the sparse (i.e. wide) features directly to the output node, but pass the dense (i.e. deep) features through a set of fully connected layers. Here’s that model architecture looks using the Functional API.\n",
        "\n",
        "First, we'll create our input columns using [tf.keras.layers.Input](https://www.tensorflow.org/versions/r2.0/api_docs/python/tf/keras/Input)."
      ],
      "id": "oEpBlsupoxFQ"
    },
    {
      "cell_type": "code",
      "metadata": {
        "id": "T0XUENCSovWf"
      },
      "source": [
        "INPUT_COLS = [\n",
        "    'pickup_longitude',\n",
        "    'pickup_latitude',\n",
        "    'dropoff_longitude',\n",
        "    'dropoff_latitude',\n",
        "    'passenger_count'\n",
        "]\n",
        "\n",
        "inputs = {colname : Input(name=colname, shape=(), dtype='float32')\n",
        "          for colname in INPUT_COLS\n",
        "}"
      ],
      "id": "T0XUENCSovWf",
      "execution_count": 66,
      "outputs": []
    },
    {
      "cell_type": "code",
      "metadata": {
        "colab": {
          "base_uri": "https://localhost:8080/"
        },
        "id": "dH6kLFhkqM1Y",
        "outputId": "758f514e-d846-4f99-8e44-4843559f8ecd"
      },
      "source": [
        "inputs.values()"
      ],
      "id": "dH6kLFhkqM1Y",
      "execution_count": 70,
      "outputs": [
        {
          "output_type": "execute_result",
          "data": {
            "text/plain": [
              "dict_values([<tf.Tensor 'pickup_longitude_1:0' shape=(None,) dtype=float32>, <tf.Tensor 'pickup_latitude_1:0' shape=(None,) dtype=float32>, <tf.Tensor 'dropoff_longitude_1:0' shape=(None,) dtype=float32>, <tf.Tensor 'dropoff_latitude_1:0' shape=(None,) dtype=float32>, <tf.Tensor 'passenger_count_1:0' shape=(None,) dtype=float32>])"
            ]
          },
          "metadata": {
            "tags": []
          },
          "execution_count": 70
        }
      ]
    },
    {
      "cell_type": "code",
      "metadata": {
        "id": "bRdSMyaJokYm"
      },
      "source": [
        "# Here, tf.reduce_mean computes the mean of elements across dimensions of a tensor.\n",
        "# tf.sqrt Computes element-wise square root of the input tensor.\n",
        "# tf.square computes square of x element-wise.\n",
        "def rmse(y_true, y_pred):\n",
        "    return tf.sqrt(tf.reduce_mean(tf.square(y_pred - y_true)))\n",
        "\n",
        "def build_model(dnn_hidden_units):\n",
        "    # Create the deep part of model\n",
        "    deep = DenseFeatures(deep_columns, name='deep_inputs')(inputs)\n",
        "    for num_nodes in dnn_hidden_units:\n",
        "        deep = Dense(num_nodes, activation='relu')(deep) \n",
        "\n",
        "    # Create the wide part of model\n",
        "    wide = DenseFeatures(wide_columns, name='wide_inputs')(inputs)\n",
        "\n",
        "    # Combine deep and wide parts of the model\n",
        "    combined = concatenate(inputs=[deep, wide], name='combined')\n",
        "\n",
        "    # Map the combined outputs into a single prediction value\n",
        "    output = Dense(units=1, activation=None, name='prediction')(combined)\n",
        "    \n",
        "    # Finalize the model\n",
        "    model = Model(inputs=list(inputs.values()), outputs=output)\n",
        "\n",
        "    # Compile the keras model\n",
        "    model.compile(optimizer=\"adam\", loss=\"mse\", metrics=[rmse, \"mse\"])\n",
        "    \n",
        "    return model"
      ],
      "id": "bRdSMyaJokYm",
      "execution_count": 68,
      "outputs": []
    },
    {
      "cell_type": "code",
      "metadata": {
        "colab": {
          "base_uri": "https://localhost:8080/",
          "height": 283
        },
        "id": "6U53Dh2KpeIk",
        "outputId": "85b0c9e0-7779-4e4f-f28f-e61d3ea77410"
      },
      "source": [
        "HIDDEN_UNITS = [10,10]\n",
        "\n",
        "# Calling the build model\n",
        "model = build_model(dnn_hidden_units=HIDDEN_UNITS)\n",
        "\n",
        "# Converts a Keras plot_model to see a diagram of the model that we have created.\n",
        "tf.keras.utils.plot_model(model, show_shapes=False, rankdir='LR')"
      ],
      "id": "6U53Dh2KpeIk",
      "execution_count": 69,
      "outputs": [
        {
          "output_type": "execute_result",
          "data": {
            "image/png": "[encoded data removed]",
            "text/plain": [
              "<IPython.core.display.Image object>"
            ]
          },
          "metadata": {
            "tags": []
          },
          "execution_count": 69
        }
      ]
    },
    {
      "cell_type": "code",
      "metadata": {
        "id": "sGGwhDsLqbBx"
      },
      "source": [
        "BATCH_SIZE = 1000\n",
        "NUM_TRAIN_EXAMPLES = 10000 * 5  # training dataset will repeat, wrap around\n",
        "NUM_EVALS = 50  # how many times to evaluate\n",
        "NUM_EVAL_EXAMPLES = 10000  # enough to get a reasonable sample\n",
        "\n",
        "trainds = create_dataset(\n",
        "    pattern='taxi-train*',\n",
        "    batch_size=BATCH_SIZE,\n",
        "    mode='train')\n",
        "\n",
        "evalds = create_dataset(\n",
        "    pattern='taxi-valid*',\n",
        "    batch_size=BATCH_SIZE,\n",
        "    mode='eval').take(NUM_EVAL_EXAMPLES//1000)"
      ],
      "id": "sGGwhDsLqbBx",
      "execution_count": 72,
      "outputs": []
    },
    {
      "cell_type": "code",
      "metadata": {
        "colab": {
          "base_uri": "https://localhost:8080/"
        },
        "id": "JlNzTRvjqe4a",
        "outputId": "6a87330f-7b0a-43d5-e5fa-b76dc6bc0201"
      },
      "source": [
        "%%time\n",
        "# Here, %%time prints the wall time for the entire cell\n",
        "steps_per_epoch = NUM_TRAIN_EXAMPLES // (BATCH_SIZE * NUM_EVALS)\n",
        "\n",
        "OUTDIR = \"./taxi_trained\"\n",
        "shutil.rmtree(path=OUTDIR, ignore_errors=True) # start fresh each time\n",
        "\n",
        "history = model.fit(x=trainds,\n",
        "                    steps_per_epoch=steps_per_epoch,\n",
        "                    epochs=NUM_EVALS,\n",
        "                    validation_data=evalds,\n",
        "                    callbacks=[TensorBoard(OUTDIR)])"
      ],
      "id": "JlNzTRvjqe4a",
      "execution_count": 73,
      "outputs": [
        {
          "output_type": "stream",
          "text": [
            "Epoch 1/50\n",
            "1/1 [==============================] - 3s 3s/step - loss: 250.4786 - rmse: 15.8265 - mse: 250.4786 - val_loss: 248.2497 - val_rmse: 15.7467 - val_mse: 248.2497\n",
            "Epoch 2/50\n",
            "WARNING:tensorflow:From /usr/local/lib/python3.7/dist-packages/tensorflow/python/ops/summary_ops_v2.py:1277: stop (from tensorflow.python.eager.profiler) is deprecated and will be removed after 2020-07-01.\n",
            "Instructions for updating:\n",
            "use `tf.profiler.experimental.stop` instead.\n",
            "1/1 [==============================] - 2s 2s/step - loss: 186.3663 - rmse: 13.6516 - mse: 186.3663 - val_loss: 244.4543 - val_rmse: 15.6253 - val_mse: 244.4543\n",
            "Epoch 3/50\n",
            "1/1 [==============================] - 3s 3s/step - loss: 258.5067 - rmse: 16.0781 - mse: 258.5067 - val_loss: 246.9424 - val_rmse: 15.7050 - val_mse: 246.9424\n",
            "Epoch 4/50\n",
            "1/1 [==============================] - 3s 3s/step - loss: 201.8834 - rmse: 14.2086 - mse: 201.8834 - val_loss: 240.3787 - val_rmse: 15.4893 - val_mse: 240.3787\n",
            "Epoch 5/50\n",
            "1/1 [==============================] - 3s 3s/step - loss: 213.7142 - rmse: 14.6190 - mse: 213.7142 - val_loss: 240.9305 - val_rmse: 15.5133 - val_mse: 240.9305\n",
            "Epoch 6/50\n",
            "1/1 [==============================] - 3s 3s/step - loss: 220.6389 - rmse: 14.8539 - mse: 220.6389 - val_loss: 240.7793 - val_rmse: 15.4979 - val_mse: 240.7793\n",
            "Epoch 7/50\n",
            "1/1 [==============================] - 2s 2s/step - loss: 234.9393 - rmse: 15.3277 - mse: 234.9393 - val_loss: 236.9168 - val_rmse: 15.3862 - val_mse: 236.9168\n",
            "Epoch 8/50\n",
            "1/1 [==============================] - 2s 2s/step - loss: 224.5028 - rmse: 14.9834 - mse: 224.5028 - val_loss: 237.9353 - val_rmse: 15.4134 - val_mse: 237.9353\n",
            "Epoch 9/50\n",
            "1/1 [==============================] - 2s 2s/step - loss: 209.2472 - rmse: 14.4654 - mse: 209.2472 - val_loss: 235.1515 - val_rmse: 15.3296 - val_mse: 235.1515\n",
            "Epoch 10/50\n",
            "1/1 [==============================] - 2s 2s/step - loss: 231.9506 - rmse: 15.2299 - mse: 231.9506 - val_loss: 233.0208 - val_rmse: 15.2605 - val_mse: 233.0208\n",
            "Epoch 11/50\n",
            "1/1 [==============================] - 2s 2s/step - loss: 246.2360 - rmse: 15.6919 - mse: 246.2360 - val_loss: 233.1477 - val_rmse: 15.2574 - val_mse: 233.1477\n",
            "Epoch 12/50\n",
            "1/1 [==============================] - 2s 2s/step - loss: 195.3876 - rmse: 13.9781 - mse: 195.3876 - val_loss: 231.6499 - val_rmse: 15.2046 - val_mse: 231.6499\n",
            "Epoch 13/50\n",
            "1/1 [==============================] - 2s 2s/step - loss: 202.2711 - rmse: 14.2222 - mse: 202.2711 - val_loss: 228.0988 - val_rmse: 15.0996 - val_mse: 228.0988\n",
            "Epoch 14/50\n",
            "1/1 [==============================] - 2s 2s/step - loss: 239.5845 - rmse: 15.4785 - mse: 239.5845 - val_loss: 226.9050 - val_rmse: 15.0558 - val_mse: 226.9050\n",
            "Epoch 15/50\n",
            "1/1 [==============================] - 2s 2s/step - loss: 224.3843 - rmse: 14.9795 - mse: 224.3843 - val_loss: 228.2522 - val_rmse: 15.0973 - val_mse: 228.2522\n",
            "Epoch 16/50\n",
            "1/1 [==============================] - 3s 3s/step - loss: 196.0285 - rmse: 14.0010 - mse: 196.0285 - val_loss: 224.4008 - val_rmse: 14.9697 - val_mse: 224.4008\n",
            "Epoch 17/50\n",
            "1/1 [==============================] - 2s 2s/step - loss: 211.2256 - rmse: 14.5336 - mse: 211.2256 - val_loss: 226.6093 - val_rmse: 15.0451 - val_mse: 226.6093\n",
            "Epoch 18/50\n",
            "1/1 [==============================] - 2s 2s/step - loss: 237.8204 - rmse: 15.4214 - mse: 237.8204 - val_loss: 223.9051 - val_rmse: 14.9551 - val_mse: 223.9051\n",
            "Epoch 19/50\n",
            "1/1 [==============================] - 2s 2s/step - loss: 188.8469 - rmse: 13.7422 - mse: 188.8469 - val_loss: 217.4224 - val_rmse: 14.7302 - val_mse: 217.4224\n",
            "Epoch 20/50\n",
            "1/1 [==============================] - 2s 2s/step - loss: 198.1474 - rmse: 14.0765 - mse: 198.1474 - val_loss: 218.3145 - val_rmse: 14.7623 - val_mse: 218.3145\n",
            "Epoch 21/50\n",
            "1/1 [==============================] - 2s 2s/step - loss: 190.5604 - rmse: 13.8044 - mse: 190.5604 - val_loss: 215.2975 - val_rmse: 14.6656 - val_mse: 215.2975\n",
            "Epoch 22/50\n",
            "1/1 [==============================] - 2s 2s/step - loss: 198.4321 - rmse: 14.0866 - mse: 198.4321 - val_loss: 214.0248 - val_rmse: 14.6163 - val_mse: 214.0248\n",
            "Epoch 23/50\n",
            "1/1 [==============================] - 2s 2s/step - loss: 198.3488 - rmse: 14.0836 - mse: 198.3488 - val_loss: 214.7065 - val_rmse: 14.6368 - val_mse: 214.7065\n",
            "Epoch 24/50\n",
            "1/1 [==============================] - 2s 2s/step - loss: 171.4283 - rmse: 13.0931 - mse: 171.4283 - val_loss: 207.3944 - val_rmse: 14.3941 - val_mse: 207.3944\n",
            "Epoch 25/50\n",
            "1/1 [==============================] - 2s 2s/step - loss: 220.9718 - rmse: 14.8651 - mse: 220.9718 - val_loss: 207.4248 - val_rmse: 14.3816 - val_mse: 207.4248\n",
            "Epoch 26/50\n",
            "1/1 [==============================] - 2s 2s/step - loss: 175.7195 - rmse: 13.2559 - mse: 175.7195 - val_loss: 205.8844 - val_rmse: 14.3380 - val_mse: 205.8844\n",
            "Epoch 27/50\n",
            "1/1 [==============================] - 3s 3s/step - loss: 171.1640 - rmse: 13.0830 - mse: 171.1640 - val_loss: 202.6076 - val_rmse: 14.2276 - val_mse: 202.6076\n",
            "Epoch 28/50\n",
            "1/1 [==============================] - 3s 3s/step - loss: 190.5244 - rmse: 13.8031 - mse: 190.5244 - val_loss: 197.3898 - val_rmse: 14.0376 - val_mse: 197.3898\n",
            "Epoch 29/50\n",
            "1/1 [==============================] - 2s 2s/step - loss: 208.6622 - rmse: 14.4451 - mse: 208.6622 - val_loss: 195.7043 - val_rmse: 13.9797 - val_mse: 195.7043\n",
            "Epoch 30/50\n",
            "1/1 [==============================] - 2s 2s/step - loss: 199.9158 - rmse: 14.1392 - mse: 199.9158 - val_loss: 193.4051 - val_rmse: 13.8954 - val_mse: 193.4051\n",
            "Epoch 31/50\n",
            "1/1 [==============================] - 2s 2s/step - loss: 151.8369 - rmse: 12.3222 - mse: 151.8369 - val_loss: 191.6766 - val_rmse: 13.8347 - val_mse: 191.6766\n",
            "Epoch 32/50\n",
            "1/1 [==============================] - 2s 2s/step - loss: 167.4240 - rmse: 12.9392 - mse: 167.4240 - val_loss: 188.7016 - val_rmse: 13.7351 - val_mse: 188.7016\n",
            "Epoch 33/50\n",
            "1/1 [==============================] - 3s 3s/step - loss: 143.0259 - rmse: 11.9593 - mse: 143.0259 - val_loss: 186.3447 - val_rmse: 13.6385 - val_mse: 186.3447\n",
            "Epoch 34/50\n",
            "1/1 [==============================] - 2s 2s/step - loss: 158.4134 - rmse: 12.5862 - mse: 158.4134 - val_loss: 180.8519 - val_rmse: 13.4362 - val_mse: 180.8519\n",
            "Epoch 35/50\n",
            "1/1 [==============================] - 2s 2s/step - loss: 163.0863 - rmse: 12.7705 - mse: 163.0863 - val_loss: 179.1278 - val_rmse: 13.3781 - val_mse: 179.1278\n",
            "Epoch 36/50\n",
            "1/1 [==============================] - 2s 2s/step - loss: 148.2886 - rmse: 12.1774 - mse: 148.2886 - val_loss: 178.2665 - val_rmse: 13.3370 - val_mse: 178.2665\n",
            "Epoch 37/50\n",
            "1/1 [==============================] - 2s 2s/step - loss: 147.6198 - rmse: 12.1499 - mse: 147.6198 - val_loss: 172.4392 - val_rmse: 13.1193 - val_mse: 172.4392\n",
            "Epoch 38/50\n",
            "1/1 [==============================] - 2s 2s/step - loss: 128.1333 - rmse: 11.3196 - mse: 128.1333 - val_loss: 171.5784 - val_rmse: 13.0950 - val_mse: 171.5784\n",
            "Epoch 39/50\n",
            "1/1 [==============================] - 2s 2s/step - loss: 171.7001 - rmse: 13.1034 - mse: 171.7001 - val_loss: 168.0538 - val_rmse: 12.9460 - val_mse: 168.0538\n",
            "Epoch 40/50\n",
            "1/1 [==============================] - 2s 2s/step - loss: 170.6282 - rmse: 13.0625 - mse: 170.6282 - val_loss: 164.4652 - val_rmse: 12.8152 - val_mse: 164.4652\n",
            "Epoch 41/50\n",
            "1/1 [==============================] - 2s 2s/step - loss: 143.3731 - rmse: 11.9739 - mse: 143.3731 - val_loss: 162.7538 - val_rmse: 12.7535 - val_mse: 162.7538\n",
            "Epoch 42/50\n",
            "1/1 [==============================] - 2s 2s/step - loss: 143.3247 - rmse: 11.9718 - mse: 143.3247 - val_loss: 159.5263 - val_rmse: 12.6191 - val_mse: 159.5263\n",
            "Epoch 43/50\n",
            "1/1 [==============================] - 2s 2s/step - loss: 131.9431 - rmse: 11.4866 - mse: 131.9431 - val_loss: 154.7263 - val_rmse: 12.4183 - val_mse: 154.7263\n",
            "Epoch 44/50\n",
            "1/1 [==============================] - 3s 3s/step - loss: 137.0803 - rmse: 11.7081 - mse: 137.0803 - val_loss: 153.4191 - val_rmse: 12.3751 - val_mse: 153.4191\n",
            "Epoch 45/50\n",
            "1/1 [==============================] - 2s 2s/step - loss: 131.1714 - rmse: 11.4530 - mse: 131.1714 - val_loss: 151.0413 - val_rmse: 12.2677 - val_mse: 151.0413\n",
            "Epoch 46/50\n",
            "1/1 [==============================] - 2s 2s/step - loss: 130.0070 - rmse: 11.4021 - mse: 130.0070 - val_loss: 147.4970 - val_rmse: 12.1260 - val_mse: 147.4970\n",
            "Epoch 47/50\n",
            "1/1 [==============================] - 2s 2s/step - loss: 149.1007 - rmse: 12.2107 - mse: 149.1007 - val_loss: 147.1423 - val_rmse: 12.1280 - val_mse: 147.1423\n",
            "Epoch 48/50\n",
            "1/1 [==============================] - 2s 2s/step - loss: 102.1591 - rmse: 10.1074 - mse: 102.1591 - val_loss: 144.5990 - val_rmse: 12.0092 - val_mse: 144.5990\n",
            "Epoch 49/50\n",
            "1/1 [==============================] - 2s 2s/step - loss: 137.2421 - rmse: 11.7150 - mse: 137.2421 - val_loss: 141.0444 - val_rmse: 11.8704 - val_mse: 141.0444\n",
            "Epoch 50/50\n",
            "1/1 [==============================] - 2s 2s/step - loss: 103.2382 - rmse: 10.1606 - mse: 103.2382 - val_loss: 136.6125 - val_rmse: 11.6644 - val_mse: 136.6125\n",
            "CPU times: user 4min 9s, sys: 24.9 s, total: 4min 34s\n",
            "Wall time: 2min 38s\n"
          ],
          "name": "stdout"
        }
      ]
    },
    {
      "cell_type": "code",
      "metadata": {
        "colab": {
          "base_uri": "https://localhost:8080/",
          "height": 282
        },
        "id": "fWmw-cjMqkAo",
        "outputId": "51e68cd9-accb-4237-8540-064430b9b92b"
      },
      "source": [
        "RMSE_COLS = ['rmse', 'val_rmse']\n",
        "\n",
        "# Pandas DataFrame is two-dimensional size-mutable, potentially heterogeneous tabular data structure with labeled axes (rows and columns).\n",
        "pd.DataFrame(history.history)[RMSE_COLS].plot()"
      ],
      "id": "fWmw-cjMqkAo",
      "execution_count": 74,
      "outputs": [
        {
          "output_type": "execute_result",
          "data": {
            "text/plain": [
              "<matplotlib.axes._subplots.AxesSubplot at 0x7f5d0450ff90>"
            ]
          },
          "metadata": {
            "tags": []
          },
          "execution_count": 74
        },
        {
          "output_type": "display_data",
          "data": {
            "image/png": "[encoded data removed]",
            "text/plain": [
              "<Figure size 432x288 with 1 Axes>"
            ]
          },
          "metadata": {
            "tags": [],
            "needs_background": "light"
          }
        }
      ]
    }
  ]
}